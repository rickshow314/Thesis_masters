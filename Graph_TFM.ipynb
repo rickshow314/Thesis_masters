{
 "cells": [
  {
   "cell_type": "code",
   "execution_count": 15,
   "metadata": {},
   "outputs": [],
   "source": [
    "#Graph generator\n",
    "from rdflib import Graph, Literal, Namespace, RDF, RDFS, URIRef"
   ]
  },
  {
   "cell_type": "code",
   "execution_count": 16,
   "metadata": {},
   "outputs": [],
   "source": [
    "g = Graph()\n"
   ]
  },
  {
   "cell_type": "code",
   "execution_count": 17,
   "metadata": {},
   "outputs": [],
   "source": [
    "# Definir los espacios de nombres (namespaces) que se utilizarán\n",
    "my_ns = Namespace(\"http://example.com/myontology#\")\n",
    "rdf_ns = Namespace(\"http://www.w3.org/1999/02/22-rdf-syntax-ns#\")\n",
    "rdfs_ns = Namespace(\"http://www.w3.org/2000/01/rdf-schema#\")"
   ]
  },
  {
   "cell_type": "code",
   "execution_count": 18,
   "metadata": {},
   "outputs": [
    {
     "name": "stdout",
     "output_type": "stream",
     "text": [
      "<?xml version=\"1.0\" encoding=\"utf-8\"?>\n",
      "<rdf:RDF\n",
      "   xmlns:ns1=\"http://example.com/myontology#\"\n",
      "   xmlns:rdf=\"http://www.w3.org/1999/02/22-rdf-syntax-ns#\"\n",
      ">\n",
      "  <rdf:Description rdf:about=\"http://example.com/myontology#Variant\">\n",
      "    <rdf:type rdf:resource=\"http://www.w3.org/2000/01/rdf-schema#Class\"/>\n",
      "    <ns1:Label>Label</ns1:Label>\n",
      "    <ns1:Position>Position</ns1:Position>\n",
      "    <ns1:Description>Description</ns1:Description>\n",
      "  </rdf:Description>\n",
      "  <rdf:Description rdf:about=\"http://example.com/myontology#Type\">\n",
      "    <rdf:type rdf:resource=\"http://www.w3.org/2000/01/rdf-schema#Class\"/>\n",
      "  </rdf:Description>\n",
      "  <rdf:Description rdf:about=\"http://example.com/myontology#Identifier\">\n",
      "    <rdf:type rdf:resource=\"http://www.w3.org/2000/01/rdf-schema#Class\"/>\n",
      "  </rdf:Description>\n",
      "  <rdf:Description rdf:about=\"http://example.com/myontology#Phenotype\">\n",
      "    <rdf:type rdf:resource=\"http://www.w3.org/2000/01/rdf-schema#Class\"/>\n",
      "  </rdf:Description>\n",
      "  <rdf:Description rdf:about=\"http://example.com/myontology#Effect\">\n",
      "    <rdf:type rdf:resource=\"http://www.w3.org/2000/01/rdf-schema#Class\"/>\n",
      "  </rdf:Description>\n",
      "  <rdf:Description rdf:about=\"http://example.com/myontology#Interaction\">\n",
      "    <rdf:type rdf:resource=\"http://www.w3.org/2000/01/rdf-schema#Class\"/>\n",
      "  </rdf:Description>\n",
      "</rdf:RDF>\n",
      "\n"
     ]
    }
   ],
   "source": [
    "# Definir las clases y propiedades\n",
    "Type = my_ns.Type\n",
    "Identifier = my_ns.Identifier\n",
    "Variant = my_ns.Variant\n",
    "Effect = my_ns.Effect\n",
    "Interaction = my_ns.Interaction\n",
    "Phenotype = my_ns.Phenotype\n",
    "\n",
    "# Definimos las instancias\n",
    "\n",
    "Description = my_ns.Description\n",
    "Label = my_ns.Label\n",
    "Position = my_ns.Position\n",
    "\n",
    "# Agregar las tripletas al grafo\n",
    "\n",
    "g.add((Variant, RDF.type, rdfs_ns.Class))\n",
    "g.add((Type, RDF.type, rdfs_ns.Class))\n",
    "g.add((Identifier, RDF.type, rdfs_ns.Class))\n",
    "g.add((Effect, RDF.type, rdfs_ns.Class))\n",
    "g.add((Interaction, RDF.type, rdfs_ns.Class))\n",
    "g.add((Phenotype, RDF.type, rdfs_ns.Class))\n",
    "\n",
    "# Agregar las instancias\n",
    "\n",
    "g.add((Literal(\"Label\"), RDF.type, RDFS.Literal))\n",
    "g.add((my_ns.Variant, my_ns.Label, Literal(\"Label\"))) #Pertenecen a la clase Variant\n",
    "g.add((Literal(\"Position\"), RDF.type, RDFS.Literal))\n",
    "g.add((my_ns.Variant, my_ns.Position, Literal(\"Position\")))\n",
    "g.add((Literal(\"Description\"), RDF.type, RDFS.Literal))\n",
    "g.add((my_ns.Variant, my_ns.Description, Literal(\"Description\")))\n",
    "\n",
    "# Serializar el grafo RDF en formato RDF/XML\n",
    "rdf_xml = g.serialize(format=\"xml\")\n",
    "\n",
    "# Imprimir el resultado\n",
    "print(rdf_xml)"
   ]
  }
 ],
 "metadata": {
  "kernelspec": {
   "display_name": "Python 3",
   "language": "python",
   "name": "python3"
  },
  "language_info": {
   "codemirror_mode": {
    "name": "ipython",
    "version": 3
   },
   "file_extension": ".py",
   "mimetype": "text/x-python",
   "name": "python",
   "nbconvert_exporter": "python",
   "pygments_lexer": "ipython3",
   "version": "3.10.11"
  },
  "orig_nbformat": 4
 },
 "nbformat": 4,
 "nbformat_minor": 2
}
