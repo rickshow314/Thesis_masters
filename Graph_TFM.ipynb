{
 "cells": [
  {
   "cell_type": "code",
   "execution_count": 8,
   "metadata": {},
   "outputs": [],
   "source": [
    "#Graph generator\n",
    "from rdflib import Graph, Literal, Namespace, RDF, RDFS, URIRef"
   ]
  },
  {
   "cell_type": "code",
   "execution_count": 9,
   "metadata": {},
   "outputs": [],
   "source": [
    "g = Graph()\n"
   ]
  },
  {
   "cell_type": "code",
   "execution_count": 13,
   "metadata": {},
   "outputs": [],
   "source": [
    "# Definir los espacios de nombres (namespaces) que se utilizarán\n",
    "my_ns = Namespace(\"http://example.com/myontology#\")\n",
    "rdf_ns = Namespace(\"http://www.w3.org/1999/02/22-rdf-syntax-ns#\")\n",
    "rdfs_ns = Namespace(\"http://www.w3.org/2000/01/rdf-schema#\")"
   ]
  },
  {
   "cell_type": "code",
   "execution_count": 15,
   "metadata": {},
   "outputs": [
    {
     "name": "stdout",
     "output_type": "stream",
     "text": [
      "<?xml version=\"1.0\" encoding=\"utf-8\"?>\n",
      "<rdf:RDF\n",
      "   xmlns:ns1=\"http://example.com/myontology#\"\n",
      "   xmlns:rdf=\"http://www.w3.org/1999/02/22-rdf-syntax-ns#\"\n",
      ">\n",
      "  <rdf:Description rdf:about=\"http://example.com/myontology#Gene1\">\n",
      "    <rdf:type rdf:resource=\"http://example.com/myontology#Gene\"/>\n",
      "    <ns1:Type>Gene Type</ns1:Type>\n",
      "    <ns1:Type rdf:resource=\"http://example.com/myontology#Type\"/>\n",
      "    <ns1:Identifier>Gene Identifier</ns1:Identifier>\n",
      "    <ns1:Identifier rdf:resource=\"http://example.com/myontology#Identifier\"/>\n",
      "    <ns1:Description>Gene Description</ns1:Description>\n",
      "    <ns1:Description rdf:resource=\"http://example.com/myontology#Description\"/>\n",
      "    <ns1:Label>Gene Label</ns1:Label>\n",
      "    <ns1:Label rdf:resource=\"http://example.com/myontology#Label\"/>\n",
      "    <ns1:Taxon>Gene Taxon</ns1:Taxon>\n",
      "    <ns1:Taxon rdf:resource=\"http://example.com/myontology#Taxon\"/>\n",
      "    <ns1:RefEnsamble>Gene Reference Ensamble</ns1:RefEnsamble>\n",
      "    <ns1:RefEnsamble rdf:resource=\"http://example.com/myontology#RefEnsamble\"/>\n",
      "    <ns1:Database>Gene Database</ns1:Database>\n",
      "    <ns1:Database rdf:resource=\"http://example.com/myontology#Database\"/>\n",
      "    <ns1:Structure>Gene Structure</ns1:Structure>\n",
      "    <ns1:Structure rdf:resource=\"http://example.com/myontology#Structure\"/>\n",
      "    <ns1:Strand>Gene Strand</ns1:Strand>\n",
      "    <ns1:Strand rdf:resource=\"http://example.com/myontology#Strand\"/>\n",
      "    <ns1:Coordenades>Gene Coordenades</ns1:Coordenades>\n",
      "    <ns1:Coordenades rdf:resource=\"http://example.com/myontology#Coordenades\"/>\n",
      "    <ns1:Position>Gene Position</ns1:Position>\n",
      "    <ns1:Position rdf:resource=\"http://example.com/myontology#Position\"/>\n",
      "  </rdf:Description>\n",
      "  <rdf:Description rdf:about=\"http://example.com/myontology#Variant1\">\n",
      "    <rdf:type rdf:resource=\"http://example.com/myontology#Variant\"/>\n",
      "    <ns1:Type>Variant Type</ns1:Type>\n",
      "    <ns1:Type rdf:resource=\"http://example.com/myontology#Type\"/>\n",
      "    <ns1:Label>Variant Label</ns1:Label>\n",
      "    <ns1:Label rdf:resource=\"http://example.com/myontology#Label\"/>\n",
      "    <ns1:Identifier>Variant Identifier</ns1:Identifier>\n",
      "    <ns1:Identifier rdf:resource=\"http://example.com/myontology#Identifier\"/>\n",
      "    <ns1:Effect>Variant Effect</ns1:Effect>\n",
      "    <ns1:Effect rdf:resource=\"http://example.com/myontology#Effect\"/>\n",
      "    <ns1:Description>Variant Description</ns1:Description>\n",
      "    <ns1:Description rdf:resource=\"http://example.com/myontology#Description\"/>\n",
      "    <ns1:Interaction>Variant Interaction</ns1:Interaction>\n",
      "    <ns1:Interaction rdf:resource=\"http://example.com/myontology#Interaction\"/>\n",
      "    <ns1:Position>Variant Position</ns1:Position>\n",
      "    <ns1:Position rdf:resource=\"http://example.com/myontology#Position\"/>\n",
      "    <ns1:Phenotype>Variant Phenotype</ns1:Phenotype>\n",
      "    <ns1:Phenotype rdf:resource=\"http://example.com/myontology#Phenotype\"/>\n",
      "  </rdf:Description>\n",
      "</rdf:RDF>\n",
      "\n"
     ]
    }
   ],
   "source": [
    "# Definir la clase \"Gene\" y sus propiedades\n",
    "Gene = my_ns.Gene\n",
    "Type = my_ns.Type\n",
    "Identifier = my_ns.Identifier\n",
    "Description = my_ns.Description\n",
    "Label = my_ns.Label\n",
    "Taxon = my_ns.Taxon\n",
    "RefEnsamble = my_ns.RefEnsamble\n",
    "Database = my_ns.Database\n",
    "Structure = my_ns.Structure\n",
    "Strand = my_ns.Strand\n",
    "Coordenades = my_ns.Coordenades\n",
    "Position = my_ns.Position\n",
    "\n",
    "# Definir la subclase \"Variant\" y sus propiedades\n",
    "Variant = my_ns.Variant\n",
    "Effect = my_ns.Effect\n",
    "Interaction = my_ns.Interaction\n",
    "Phenotype = my_ns.Phenotype\n",
    "\n",
    "\n",
    "# Agregar instancias de la clase \"Gene\" al grafo\n",
    "g.add((my_ns.Gene1, RDF.type, Gene))\n",
    "g.add((my_ns.Gene1, Type, my_ns.Type))\n",
    "g.add((my_ns.Gene1, Identifier, my_ns.Identifier))\n",
    "g.add((my_ns.Gene1, Description, my_ns.Description))\n",
    "g.add((my_ns.Gene1, Label, my_ns.Label))\n",
    "g.add((my_ns.Gene1, Taxon, my_ns.Taxon))\n",
    "g.add((my_ns.Gene1, RefEnsamble, my_ns.RefEnsamble))\n",
    "g.add((my_ns.Gene1, Database, my_ns.Database))\n",
    "g.add((my_ns.Gene1, Structure, my_ns.Structure))\n",
    "g.add((my_ns.Gene1, Strand, my_ns.Strand))\n",
    "g.add((my_ns.Gene1, Coordenades, my_ns.Coordenades))\n",
    "g.add((my_ns.Gene1, Position, my_ns.Position))\n",
    "\n",
    "# Agregar instancias de la subclase \"Variant\" al grafo\n",
    "g.add((my_ns.Variant1, RDF.type, Variant))\n",
    "g.add((my_ns.Variant1, Type, my_ns.Type))\n",
    "g.add((my_ns.Variant1, Label, my_ns.Label))\n",
    "g.add((my_ns.Variant1, Identifier, my_ns.Identifier))\n",
    "g.add((my_ns.Variant1, Effect, my_ns.Effect))\n",
    "g.add((my_ns.Variant1, Description, my_ns.Description))\n",
    "g.add((my_ns.Variant1, Interaction, my_ns.Interaction))\n",
    "g.add((my_ns.Variant1, Position, my_ns.Position))\n",
    "g.add((my_ns.Variant1, Phenotype, my_ns.Phenotype))\n",
    "\n",
    "# Serializar el grafo RDF en formato RDF/XML\n",
    "rdf_xml = g.serialize(format=\"xml\")\n",
    "\n",
    "# Imprimir el resultado\n",
    "print(rdf_xml)"
   ]
  }
 ],
 "metadata": {
  "kernelspec": {
   "display_name": "Python 3",
   "language": "python",
   "name": "python3"
  },
  "language_info": {
   "codemirror_mode": {
    "name": "ipython",
    "version": 3
   },
   "file_extension": ".py",
   "mimetype": "text/x-python",
   "name": "python",
   "nbconvert_exporter": "python",
   "pygments_lexer": "ipython3",
   "version": "3.10.11"
  },
  "orig_nbformat": 4
 },
 "nbformat": 4,
 "nbformat_minor": 2
}
