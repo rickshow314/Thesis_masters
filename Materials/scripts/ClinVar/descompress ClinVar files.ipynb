{
 "cells": [
  {
   "cell_type": "code",
   "execution_count": 1,
   "metadata": {},
   "outputs": [
    {
     "data": {
      "text/plain": [
       "\"with gzip.open(archivo_gz, 'rt') as f:\\n    # Saltar metadatos al principio del archivo (líneas que empiezan con '##')\\n    lines = [line for line in f if not line.startswith('##')]\\n    \\n    # Crear un DataFrame a partir de las líneas restantes\\n    # La primera línea después de los metadatos es el encabezado (empieza con '#')\\n    df = pd.DataFrame([line.strip().split('\\t') for line in lines])\\n    \\n    # La primera fila contiene los nombres de las columnas (pero con un '#' en la primera columna)\\n    df.columns = df.iloc[0].str.replace('^#', '', regex=True)  # Eliminar '#' del nombre de la primera columna\\n    df = df[1:]  # Descartar la fila del encabezado de los datos del DataFrame\\n\\n# Mostrar el DataFrame y las columnas\\nprint(df.head())  # Cambiado a head() para no imprimir todo el DataFrame\\nprint(df.columns)\""
      ]
     },
     "execution_count": 1,
     "metadata": {},
     "output_type": "execute_result"
    }
   ],
   "source": [
    "import gzip\n",
    "import pandas as pd\n",
    "import os\n",
    "\n",
    "\n",
    "# Nombres de archivos\n",
    "archivo_gz = 'clinvar.vcf.gz'\n",
    "archivo_salida_tsv = 'archivo_descomprimido.tsv'\n",
    "\n",
    "# Leer el archivo .vcf.gz\n",
    "'''with gzip.open(archivo_gz, 'rt') as f:\n",
    "    # Saltar metadatos al principio del archivo (líneas que empiezan con '##')\n",
    "    lines = [line for line in f if not line.startswith('##')]\n",
    "    \n",
    "    # Crear un DataFrame a partir de las líneas restantes\n",
    "    # La primera línea después de los metadatos es el encabezado (empieza con '#')\n",
    "    df = pd.DataFrame([line.strip().split('\\t') for line in lines])\n",
    "    \n",
    "    # La primera fila contiene los nombres de las columnas (pero con un '#' en la primera columna)\n",
    "    df.columns = df.iloc[0].str.replace('^#', '', regex=True)  # Eliminar '#' del nombre de la primera columna\n",
    "    df = df[1:]  # Descartar la fila del encabezado de los datos del DataFrame\n",
    "\n",
    "# Mostrar el DataFrame y las columnas\n",
    "print(df.head())  # Cambiado a head() para no imprimir todo el DataFrame\n",
    "print(df.columns)'''\n"
   ]
  },
  {
   "cell_type": "code",
   "execution_count": 2,
   "metadata": {},
   "outputs": [
    {
     "data": {
      "text/plain": [
       "\"columnas_seleccionadas = ['CHROM','POS', 'ID', 'REF', 'ALT', 'INFO']\\ndf = df[columnas_seleccionadas]\\ncolumna_info = ['INFO']\\ndf1 = df[columna_info]\\n# Verificar el resultado\\nprint(df.head())\\nprint(df1.head(1))\""
      ]
     },
     "execution_count": 2,
     "metadata": {},
     "output_type": "execute_result"
    }
   ],
   "source": [
    "'''columnas_seleccionadas = ['CHROM','POS', 'ID', 'REF', 'ALT', 'INFO']\n",
    "df = df[columnas_seleccionadas]\n",
    "columna_info = ['INFO']\n",
    "df1 = df[columna_info]\n",
    "# Verificar el resultado\n",
    "print(df.head())\n",
    "print(df1.head(1))'''\n"
   ]
  },
  {
   "cell_type": "code",
   "execution_count": 3,
   "metadata": {},
   "outputs": [
    {
     "data": {
      "text/plain": [
       "\"# Dividir la columna 'INFO' en varias columnas basadas en los pares clave=valor\\ninfo_df = df['INFO'].str.split(';', expand=True)\\n\\n# Crear un DataFrame vacío para las nuevas columnas\\nnew_info_df = pd.DataFrame()\\n\\n# Iterar sobre cada columna en info_df para separar las claves y valores\\nfor column in info_df:\\n    # Dividir cada string en clave y valor\\n    split_data = info_df[column].str.split('=', expand=True)\\n    \\n    # Asignar la clave como nombre de columna y el valor como datos de la columna\\n    if len(split_data.columns) > 1:  # Verificar si realmente hay clave y valor\\n        new_info_df[split_data[0].iloc[0]] = split_data[1]\\n\\n# Ahora new_info_df contiene las columnas deseadas según las claves en 'INFO\""
      ]
     },
     "execution_count": 3,
     "metadata": {},
     "output_type": "execute_result"
    }
   ],
   "source": [
    "'''# Dividir la columna 'INFO' en varias columnas basadas en los pares clave=valor\n",
    "info_df = df['INFO'].str.split(';', expand=True)\n",
    "\n",
    "# Crear un DataFrame vacío para las nuevas columnas\n",
    "new_info_df = pd.DataFrame()\n",
    "\n",
    "# Iterar sobre cada columna en info_df para separar las claves y valores\n",
    "for column in info_df:\n",
    "    # Dividir cada string en clave y valor\n",
    "    split_data = info_df[column].str.split('=', expand=True)\n",
    "    \n",
    "    # Asignar la clave como nombre de columna y el valor como datos de la columna\n",
    "    if len(split_data.columns) > 1:  # Verificar si realmente hay clave y valor\n",
    "        new_info_df[split_data[0].iloc[0]] = split_data[1]\n",
    "\n",
    "# Ahora new_info_df contiene las columnas deseadas según las claves en 'INFO'''"
   ]
  },
  {
   "cell_type": "code",
   "execution_count": 4,
   "metadata": {},
   "outputs": [
    {
     "data": {
      "text/plain": [
       "'# Concatenar las columnas originales con las nuevas columnas extraídas\\nfinal_df = pd.concat([df, new_info_df], axis=1)\\n# Guardar el DataFrame en un archivo .pickle\\nfinal_df.to_pickle(\"final_dataframe.pickle\")'"
      ]
     },
     "execution_count": 4,
     "metadata": {},
     "output_type": "execute_result"
    }
   ],
   "source": [
    "'''# Concatenar las columnas originales con las nuevas columnas extraídas\n",
    "final_df = pd.concat([df, new_info_df], axis=1)\n",
    "# Guardar el DataFrame en un archivo .pickle\n",
    "final_df.to_pickle(\"final_dataframe.pickle\")'''\n"
   ]
  },
  {
   "cell_type": "code",
   "execution_count": 5,
   "metadata": {},
   "outputs": [],
   "source": [
    "loaded_df = pd.read_pickle(\"final_dataframe.pickle\")\n",
    "# Imprimir las primeras filas para revisar el DataFrame final\n",
    "#renombra la columna\n",
    "loaded_df.rename(columns={'ID': 'clinvar_id'}, inplace=True)\n"
   ]
  },
  {
   "cell_type": "code",
   "execution_count": 6,
   "metadata": {},
   "outputs": [],
   "source": [
    "# Intentar dividir la columna 'GENEINFO', añadiendo un valor predeterminado para los casos sin delimitador ':'\n",
    "temp_df = loaded_df['GENEINFO'].str.split(':', expand=True)\n",
    "temp_df[1] = temp_df[1].fillna(\"None\")  # Añadir 'Desconocido' si no hay segundo elemento"
   ]
  },
  {
   "cell_type": "code",
   "execution_count": 7,
   "metadata": {},
   "outputs": [],
   "source": [
    "loaded_df['gene_symbol'] = temp_df[0]\n",
    "loaded_df['gene_id'] = temp_df[1]"
   ]
  },
  {
   "cell_type": "code",
   "execution_count": 8,
   "metadata": {},
   "outputs": [
    {
     "name": "stdout",
     "output_type": "stream",
     "text": [
      "Registros donde 'GENEINFO' no contiene el delimitador ':':\n"
     ]
    }
   ],
   "source": [
    "registros_sin_colon = loaded_df[~loaded_df['GENEINFO'].str.contains(':')]\n",
    "\n",
    "print(\"Registros donde 'GENEINFO' no contiene el delimitador ':':\")\n",
    "#print(registros_sin_colon)"
   ]
  },
  {
   "cell_type": "code",
   "execution_count": 9,
   "metadata": {},
   "outputs": [
    {
     "name": "stdout",
     "output_type": "stream",
     "text": [
      "   CHROM     POS clinvar_id REF ALT ALLELEID CLNDISDB    CLNDN  \\\n",
      "30     1  930165    1164676   G   A  0.00102  0.00280  1153701   \n",
      "32     1  930187    1144630   C   T  0.00016  0.00005  1131738   \n",
      "36     1  930195    1354167   C   T  0.00008  0.00004  1341285   \n",
      "38     1  930200    1043045   G   A  0.00039  0.00038  1023510   \n",
      "41     1  930204    1170208   G   A  0.01083  0.00595  0.01098   \n",
      "54     1  930245    1131472   G   A  0.00069  0.00066  0.00140   \n",
      "56     1  930248     789256   G   A  0.00347  0.00622  0.00280   \n",
      "69     1  930282    1140293   G   A  0.00146  0.00064  0.00080   \n",
      "70     1  930284    1435698   C   T  0.00008  0.00013  0.00020   \n",
      "71     1  930285    1165489   G   A  0.00062  0.00094  1153703   \n",
      "\n",
      "                                         CLNHGVS  \\\n",
      "30                             .|MedGen:C3661900   \n",
      "32                               MedGen:C3661900   \n",
      "36                               MedGen:C3661900   \n",
      "38  MedGen:CN517202|MeSH:D030342,MedGen:C0950123   \n",
      "41                                       1153702   \n",
      "54                                       1110866   \n",
      "56                                        707587   \n",
      "69                                       1110867   \n",
      "70                                       1500694   \n",
      "71                               MedGen:C3661900   \n",
      "\n",
      "                               CLNREVSTAT  \\\n",
      "30  SAMD11-related_condition|not_provided   \n",
      "32                           not_provided   \n",
      "36                           not_provided   \n",
      "38   not_provided|Inborn_genetic_diseases   \n",
      "41                      .|MedGen:C3661900   \n",
      "54                      MedGen:C3661900|.   \n",
      "56                      .|MedGen:C3661900   \n",
      "69                      .|MedGen:C3661900   \n",
      "70                        MedGen:C3661900   \n",
      "71                           not_provided   \n",
      "\n",
      "                                   CLNSIG  \\\n",
      "30               NC_000001.11:g.930165G>A   \n",
      "32               NC_000001.11:g.930187C>T   \n",
      "36               NC_000001.11:g.930195C>T   \n",
      "38               NC_000001.11:g.930200G>A   \n",
      "41  SAMD11-related_condition|not_provided   \n",
      "54  not_provided|SAMD11-related_condition   \n",
      "56  SAMD11-related_condition|not_provided   \n",
      "69  SAMD11-related_condition|not_provided   \n",
      "70                           not_provided   \n",
      "71               NC_000001.11:g.930285G>A   \n",
      "\n",
      "                                                CLNVC  \\\n",
      "30  criteria_provided,_multiple_submitters,_no_con...   \n",
      "32                criteria_provided,_single_submitter   \n",
      "36                criteria_provided,_single_submitter   \n",
      "38     criteria_provided,_conflicting_classifications   \n",
      "41                           NC_000001.11:g.930204G>A   \n",
      "54                           NC_000001.11:g.930245G>A   \n",
      "56                           NC_000001.11:g.930248G>A   \n",
      "69                           NC_000001.11:g.930282G>A   \n",
      "70                           NC_000001.11:g.930284C>T   \n",
      "71                criteria_provided,_single_submitter   \n",
      "\n",
      "                                              CLNVCSO  \\\n",
      "30                                             Benign   \n",
      "32                                      Likely_benign   \n",
      "36                             Uncertain_significance   \n",
      "38       Conflicting_classifications_of_pathogenicity   \n",
      "41  criteria_provided,_multiple_submitters,_no_con...   \n",
      "54  criteria_provided,_multiple_submitters,_no_con...   \n",
      "56  criteria_provided,_multiple_submitters,_no_con...   \n",
      "69  criteria_provided,_multiple_submitters,_no_con...   \n",
      "70                criteria_provided,_single_submitter   \n",
      "71                                             Benign   \n",
      "\n",
      "                                      GENEINFO                         MC  \\\n",
      "30                   single_nucleotide_variant                 SO:0001483   \n",
      "32                   single_nucleotide_variant                 SO:0001483   \n",
      "36                   single_nucleotide_variant                 SO:0001483   \n",
      "38  Uncertain_significance(1)|Likely_benign(1)  single_nucleotide_variant   \n",
      "41                                      Benign  single_nucleotide_variant   \n",
      "54                               Likely_benign  single_nucleotide_variant   \n",
      "56                               Likely_benign  single_nucleotide_variant   \n",
      "69                               Likely_benign  single_nucleotide_variant   \n",
      "70                      Uncertain_significance  single_nucleotide_variant   \n",
      "71                   single_nucleotide_variant                 SO:0001483   \n",
      "\n",
      "           ORIGIN                                 gene_symbol gene_id  \n",
      "30  SAMD11:148398                   single_nucleotide_variant    None  \n",
      "32  SAMD11:148398                   single_nucleotide_variant    None  \n",
      "36  SAMD11:148398                   single_nucleotide_variant    None  \n",
      "38     SO:0001483  Uncertain_significance(1)|Likely_benign(1)    None  \n",
      "41     SO:0001483                                      Benign    None  \n",
      "54     SO:0001483                               Likely_benign    None  \n",
      "56     SO:0001483                               Likely_benign    None  \n",
      "69     SO:0001483                               Likely_benign    None  \n",
      "70     SO:0001483                      Uncertain_significance    None  \n",
      "71  SAMD11:148398                   single_nucleotide_variant    None  \n"
     ]
    }
   ],
   "source": [
    "print(registros_sin_colon.head(10))"
   ]
  },
  {
   "cell_type": "code",
   "execution_count": 10,
   "metadata": {},
   "outputs": [
    {
     "name": "stdout",
     "output_type": "stream",
     "text": [
      "  CHROM    POS clinvar_id REF ALT ALLELEID                      CLNDISDB  \\\n",
      "1     1  69134    2205837   A   G  2193183  MeSH:D030342,MedGen:C0950123   \n",
      "\n",
      "                     CLNDN                  CLNHGVS  \\\n",
      "1  Inborn_genetic_diseases  NC_000001.11:g.69134A>G   \n",
      "\n",
      "                            CLNREVSTAT         CLNSIG  \\\n",
      "1  criteria_provided,_single_submitter  Likely_benign   \n",
      "\n",
      "                       CLNVC     CLNVCSO     GENEINFO  \\\n",
      "1  single_nucleotide_variant  SO:0001483  OR4F5:79501   \n",
      "\n",
      "                            MC ORIGIN gene_symbol gene_id  \n",
      "1  SO:0001583|missense_variant      1       OR4F5   79501  \n"
     ]
    }
   ],
   "source": [
    "print(loaded_df.head(1))"
   ]
  },
  {
   "cell_type": "code",
   "execution_count": 11,
   "metadata": {},
   "outputs": [
    {
     "name": "stdout",
     "output_type": "stream",
     "text": [
      "CHROM                                                          1\n",
      "POS                                                       935788\n",
      "clinvar_id                                               1297123\n",
      "REF                                                            C\n",
      "ALT                                                            T\n",
      "ALLELEID                                                 1286912\n",
      "CLNDISDB       Human_Phenotype_Ontology:HP:0000547,MONDO:MOND...\n",
      "CLNDN                                       Retinitis_pigmentosa\n",
      "CLNHGVS                                 NC_000001.11:g.935788C>T\n",
      "CLNREVSTAT                   criteria_provided,_single_submitter\n",
      "CLNSIG                                    Uncertain_significance\n",
      "CLNVC                                  single_nucleotide_variant\n",
      "CLNVCSO                                               SO:0001483\n",
      "GENEINFO                                           SAMD11:148398\n",
      "MC                                   SO:0001583|missense_variant\n",
      "ORIGIN                                                         1\n",
      "gene_symbol                                               SAMD11\n",
      "gene_id                                                   148398\n",
      "Name: 132, dtype: object\n"
     ]
    }
   ],
   "source": [
    "specific_row = loaded_df.iloc[131]\n",
    "print(specific_row)"
   ]
  },
  {
   "cell_type": "code",
   "execution_count": 12,
   "metadata": {},
   "outputs": [],
   "source": [
    "# Añadir nuevas columnas que voy a necesitar\n",
    "loaded_df['DB'] = 'ClinVar' # Columna base de datos"
   ]
  },
  {
   "cell_type": "code",
   "execution_count": 13,
   "metadata": {},
   "outputs": [
    {
     "name": "stdout",
     "output_type": "stream",
     "text": [
      "CHROM                                                          9\n",
      "POS                                                      2115857\n",
      "clinvar_id                                               1309084\n",
      "REF                                                            G\n",
      "ALT                                                            A\n",
      "ALLELEID                                                 1301112\n",
      "CLNDISDB            MeSH:D030342,MedGen:C0950123|MedGen:C3661900\n",
      "CLNDN                       Inborn_genetic_diseases|not_provided\n",
      "CLNHGVS                                NC_000009.12:g.2115857G>A\n",
      "CLNREVSTAT     criteria_provided,_multiple_submitters,_no_con...\n",
      "CLNSIG                                             Likely_benign\n",
      "CLNVC                                  single_nucleotide_variant\n",
      "CLNVCSO                                               SO:0001483\n",
      "GENEINFO                                            SMARCA2:6595\n",
      "MC                                 SO:0001819|synonymous_variant\n",
      "ORIGIN                                                         1\n",
      "gene_symbol                                              SMARCA2\n",
      "gene_id                                                     6595\n",
      "DB                                                       ClinVar\n",
      "Name: 1224565, dtype: object\n"
     ]
    }
   ],
   "source": [
    "specific_row_2 = loaded_df.iloc[1224564]\n",
    "print(specific_row_2)"
   ]
  },
  {
   "cell_type": "code",
   "execution_count": 14,
   "metadata": {},
   "outputs": [
    {
     "name": "stdout",
     "output_type": "stream",
     "text": [
      "CHROM                                                          5\n",
      "POS                                                    148136985\n",
      "clinvar_id                                                513233\n",
      "REF                                                            C\n",
      "ALT                                                            T\n",
      "ALLELEID                                                 0.00008\n",
      "CLNDISDB                                                 0.00027\n",
      "CLNDN                                                     500709\n",
      "CLNHGVS        MedGen:C3661900|MONDO:MONDO:0043106,MedGen:C02...\n",
      "CLNREVSTAT     not_provided|Ichthyosis_linearis_circumflexa|n...\n",
      "CLNSIG                               NC_000005.10:g.148136985C>T\n",
      "CLNVC          criteria_provided,_multiple_submitters,_no_con...\n",
      "CLNVCSO                                            Likely_benign\n",
      "GENEINFO                               single_nucleotide_variant\n",
      "MC                                                    SO:0001483\n",
      "ORIGIN                                         ClinGen:CA3496305\n",
      "gene_symbol                            single_nucleotide_variant\n",
      "gene_id                                                     None\n",
      "Name: 846317, dtype: object\n"
     ]
    }
   ],
   "source": [
    "specific_row_3 = registros_sin_colon.iloc[100145]\n",
    "print(specific_row_3)"
   ]
  },
  {
   "cell_type": "code",
   "execution_count": 16,
   "metadata": {},
   "outputs": [
    {
     "name": "stdout",
     "output_type": "stream",
     "text": [
      "DataFrame guardado con éxito en 'Salidas'\n"
     ]
    }
   ],
   "source": [
    "# Define la ruta y el nombre del archivo TSV de salida\n",
    "archivo_salida_tsv = 'salida_ClinVar.tsv'\n",
    "carpeta_salida = 'Salidas'\n",
    "archivo_salida_tsv = os.path.join(carpeta_salida, archivo_salida_tsv)\n",
    "# Guardar el DataFrame en un archivo TSV\n",
    "loaded_df.to_csv(archivo_salida_tsv, sep='\\t', index=False)\n",
    "\n",
    "print(f\"DataFrame guardado con éxito en '{carpeta_salida}'\")"
   ]
  }
 ],
 "metadata": {
  "kernelspec": {
   "display_name": "Python 3",
   "language": "python",
   "name": "python3"
  },
  "language_info": {
   "codemirror_mode": {
    "name": "ipython",
    "version": 3
   },
   "file_extension": ".py",
   "mimetype": "text/x-python",
   "name": "python",
   "nbconvert_exporter": "python",
   "pygments_lexer": "ipython3",
   "version": "3.10.9"
  }
 },
 "nbformat": 4,
 "nbformat_minor": 2
}
