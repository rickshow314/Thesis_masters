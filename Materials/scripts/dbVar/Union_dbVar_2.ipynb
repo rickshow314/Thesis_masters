{
 "cells": [
  {
   "cell_type": "code",
   "execution_count": 1,
   "metadata": {},
   "outputs": [
    {
     "name": "stderr",
     "output_type": "stream",
     "text": [
      "C:\\Users\\Ricardo\\AppData\\Local\\Temp\\ipykernel_19836\\1450395313.py:15: DtypeWarning: Columns (0) have mixed types. Specify dtype option on import or set low_memory=False.\n",
      "  df = pd.read_csv(archivo, sep='\\t', usecols=columnas_comunes)\n"
     ]
    }
   ],
   "source": [
    "import pandas as pd\n",
    "import os\n",
    "\n",
    "# Lista de archivos para combinar\n",
    "archivos = ['salida_GRCh38.nr_duplications.tsv', 'salida_GRCh38.nr_insertion.tsv', 'salida_GRCh38.nr_deletions_big.tsv']\n",
    "# Suponiendo que 'archivo3.tsv' es el que no tiene la columna 'gene'\n",
    "columnas_comunes = ['CHROM', 'POS', 'END', 'method', 'variant_type', 'variant', 'DB']\n",
    "\n",
    "# Cargar todos los archivos\n",
    "dataframes = []\n",
    "for i, archivo in enumerate(archivos):\n",
    "    if i < 2:  # Los primeros dos archivos tienen todas las columnas\n",
    "        df = pd.read_csv(archivo, sep='\\t', usecols=columnas_comunes + ['gene'])\n",
    "    else:  # El tercer archivo no tiene la columna 'gene'\n",
    "        df = pd.read_csv(archivo, sep='\\t', usecols=columnas_comunes)\n",
    "        df['gene'] = pd.NA  # Añadir columna 'gene' con valores NaN\n",
    "    dataframes.append(df)\n",
    "\n",
    "# Concatenar todos los dataframes en uno solo\n",
    "df_combinado = pd.concat(dataframes, ignore_index=True)\n",
    "\n",
    "# Seleccionar una muestra aleatoria del DataFrame\n",
    "df_combinado = df_combinado.sample(frac=0.2, random_state=1)  # Ajusta frac según tus necesidades\n",
    "\n",
    "df_combinado.rename(columns={'variant': 'dbvar_id'}, inplace=True)\n",
    "\n",
    "# Paso 1: Crear un identificador base\n",
    "df_combinado['ID_base'] = 'VARHS' + (df_combinado.index + 1).astype(str)\n",
    "\n",
    "# Paso 2: Identificar y manejar duplicados\n",
    "# Crear un contador temporal para cada ID_base\n",
    "df_combinado['temp_count'] = df_combinado.groupby('ID_base').cumcount() + 1\n",
    "\n",
    "# Solo añadir el sufijo si hay más de una ocurrencia\n",
    "df_combinado['ID_merged'] = df_combinado.apply(lambda x: f\"{x['ID_base']}_{x['temp_count']}\" if x['temp_count'] > 1 else x['ID_base'], axis=1)\n",
    "\n",
    "# Eliminar la columna temporal usada para contar\n",
    "df_combinado.drop(['temp_count'], axis=1, inplace=True)\n",
    "\n",
    "# Reordenar columnas para que ID_merged sea la primera\n",
    "columnas = ['ID_merged'] + [col for col in df_combinado.columns if col != 'ID_merged']\n",
    "df_combinado = df_combinado[columnas]\n",
    "\n",
    "# Guardar el dataframe combinado en un nuevo archivo TSV\n",
    "df_combinado.to_csv('archivo_combinado.tsv', sep='\\t', index=False)"
   ]
  },
  {
   "cell_type": "code",
   "execution_count": 2,
   "metadata": {},
   "outputs": [
    {
     "name": "stdout",
     "output_type": "stream",
     "text": [
      "2153955\n"
     ]
    }
   ],
   "source": [
    "# Suponiendo que df_combinado es tu primera base de datos\n",
    "last_index_1 = df_combinado.index[-1] + 1  # +1 porque los índices comienzan en 0 pero tú estás añadiendo 1 al índice para los IDs\n",
    "print(last_index_1)\n"
   ]
  },
  {
   "cell_type": "code",
   "execution_count": 3,
   "metadata": {},
   "outputs": [
    {
     "name": "stdout",
     "output_type": "stream",
     "text": [
      "['ID_merged', 'CHROM', 'POS', 'END', 'method', 'variant_type', 'dbvar_id', 'gene', 'DB', 'ID_base']\n"
     ]
    }
   ],
   "source": [
    "print(df_combinado.columns.tolist())"
   ]
  },
  {
   "cell_type": "code",
   "execution_count": 4,
   "metadata": {},
   "outputs": [],
   "source": [
    "uri_mapping = {\n",
    "    1: 'NC_000001.11',\n",
    "    2: 'NC_000002.12',\n",
    "    3: 'NC_000003.12',\n",
    "    4: 'NC_000004.12',\n",
    "    5: 'NC_000005.10',\n",
    "    6: 'NC_000006.12',\n",
    "    7: 'NC_000007.14',\n",
    "    8: 'NC_000008.11',\n",
    "    9: 'NC_000009.12',\n",
    "    10: 'NC_000010.11',\n",
    "    11: 'NC_000011.10',\n",
    "    12: 'NC_000012.12',\n",
    "    13: 'NC_000013.11',\n",
    "    14: 'NC_000014.9',\n",
    "    15: 'NC_000015.10',\n",
    "    16: 'NC_000016.10',\n",
    "    17: 'NC_000017.11',\n",
    "    18: 'NC_000018.10',\n",
    "    19: 'NC_000019.10',\n",
    "    20: 'NC_000020.11',\n",
    "    21: 'NC_000021.9',\n",
    "    22: 'NC_000022.11',\n",
    "    'X': 'NC_000023.11',\n",
    "    'Y': 'NC_000024.10',\n",
    "    'mt': 'NC_012920.1'\n",
    "}"
   ]
  },
  {
   "cell_type": "code",
   "execution_count": 5,
   "metadata": {},
   "outputs": [],
   "source": [
    "descrip_alt_label_mapping = {\n",
    "    1: 'NC_000001.11:g.',\n",
    "    2: 'NC_000002.12:g.',\n",
    "    3: 'NC_000003.12:g.',\n",
    "    4: 'NC_000004.12:g.',\n",
    "    5: 'NC_000005.10:g.',\n",
    "    6: 'NC_000006.12:g.',\n",
    "    7: 'NC_000007.14:g.',\n",
    "    8: 'NC_000008.11:g.',\n",
    "    9: 'NC_000009.12:g.',\n",
    "    10: 'NC_000010.11:g.',\n",
    "    11: 'NC_000011.10:g.',\n",
    "    12: 'NC_000012.12:g.',\n",
    "    13: 'NC_000013.11:g.',\n",
    "    14: 'NC_000014.9:g.',\n",
    "    15: 'NC_000015.10:g.',\n",
    "    16: 'NC_000016.10:g.',\n",
    "    17: 'NC_000017.11:g.',\n",
    "    18: 'NC_000018.10:g.',\n",
    "    19: 'NC_000019.10:g.',\n",
    "    20: 'NC_000020.11:g.',\n",
    "    21: 'NC_000021.9:g.',\n",
    "    22: 'NC_000022.11:g.',\n",
    "    'X': 'NC_000023.11:g.',\n",
    "    'Y': 'NC_000024.10:g.',\n",
    "    'mt': 'NC_012920.1:g.'\n",
    "}"
   ]
  },
  {
   "cell_type": "code",
   "execution_count": 6,
   "metadata": {},
   "outputs": [],
   "source": [
    "method_mapping = {\n",
    "    \"BAC_aCGH\": [\"NCIT_C116157\"],\n",
    "    \"Curated\": [\"OBI_0302840\"],\n",
    "    \"MLPA\": [\"NCIT_C116161\"],\n",
    "    \"Oligo_aCGH\": [\"NCIT_C116156\"],\n",
    "    \"Optical_mapping\": [\"NCIT_C116162\"],\n",
    "    \"ROMA\": [\"NCIT_C40211\"],\n",
    "    \"SNP_array\": [ \"NCIT_C40211\"], # \"http://www.ebi.ac.uk/efo/EFO_0002703\",\n",
    "    # \"Sequencing\": [\"http://www.ebi.ac.uk/efo/EFO_0002693\", \"http://www.bioassayontology.org/bao#BAO_0040026\"],\n",
    "    \"qPCR\": [\n",
    "        \"OBI_0000893\",\n",
    "        \"ECO_0000231\",\n",
    "        # \"http://www.bioassayontology.org/bao#BAO_0003031\",\n",
    "        \"NCIT_C51962\",\n",
    "        \"MI_1195\"\n",
    "    ]\n",
    "}"
   ]
  },
  {
   "cell_type": "code",
   "execution_count": 7,
   "metadata": {},
   "outputs": [],
   "source": [
    "method_mapping_bao = {\n",
    "    \"Sequencing\": \"BAO_0040026\",\n",
    "    \"qPCR\": \"BAO_0003031\"\n",
    "}"
   ]
  },
  {
   "cell_type": "code",
   "execution_count": 8,
   "metadata": {},
   "outputs": [],
   "source": [
    "method_mapping_efo = {\n",
    "\n",
    "    \"SNP_array\": \"EFO_0002703\",\n",
    "    \"Sequencing\": \"EFO_0002693\"\n",
    "\n",
    "}"
   ]
  },
  {
   "cell_type": "code",
   "execution_count": 9,
   "metadata": {},
   "outputs": [],
   "source": [
    "    # \"Merging\": [\"None\"],#invent\n",
    "    # \"Multiple\": [\"None\"],#invent\n",
    "    # \"Not_provided\": [\"None\"],#invent"
   ]
  },
  {
   "cell_type": "code",
   "execution_count": 10,
   "metadata": {},
   "outputs": [],
   "source": [
    "# Aplicar el mapeo utilizando el diccionario\n",
    "df_combinado['method_uri'] = df_combinado['method'].map(method_mapping)\n",
    "\n",
    "# Expandir las listas en la columna 'method_uri' a múltiples filas\n",
    "df_combinado = df_combinado.explode('method_uri')"
   ]
  },
  {
   "cell_type": "code",
   "execution_count": 11,
   "metadata": {},
   "outputs": [],
   "source": [
    "# Aplicar el mapeo utilizando el diccionario method_mapping_efo\n",
    "df_combinado['method_uri_efo'] = df_combinado['method'].map(method_mapping_efo)"
   ]
  },
  {
   "cell_type": "code",
   "execution_count": 12,
   "metadata": {},
   "outputs": [],
   "source": [
    "# Aplicar el mapeo utilizando el diccionario method_mapping_bao\n",
    "df_combinado['method_uri_bao'] = df_combinado['method'].map(method_mapping_bao)"
   ]
  },
  {
   "cell_type": "code",
   "execution_count": 13,
   "metadata": {},
   "outputs": [],
   "source": [
    "genes_mapping = {\n",
    "    'WT1': '7490',\n",
    "    'TRDN': '10345',\n",
    "    'NF2': '4771',\n",
    "    'RYR2': '6262',\n",
    "    'SCN5A': '6331',\n",
    "    'STK11': '6794',\n",
    "    'BRCA2': '675',\n",
    "    'TMEM43': '79188',\n",
    "    'COL3A1': '1281',\n",
    "    'FBN1': '2200',\n",
    "    'TGFBR2': '7048',\n",
    "    'PMS2': '5395',\n",
    "    'GAA': '2548',\n",
    "    'CASQ2': '845',\n",
    "    'TTN': '7273',\n",
    "    'SDHC': '6391',\n",
    "    'MSH2': '4436',\n",
    "    'TMEM127': '55654',\n",
    "    'BTD': '686',\n",
    "    'MLH1': '4292',\n",
    "    'APC': '324',\n",
    "    'DSP': '1832',\n",
    "    'FLNC': '2318',\n",
    "    'KCNH2': '3757',\n",
    "    'PRKAG2': '51422',\n",
    "    'TGFBR1': '7046',\n",
    "    'TSC1': '7248',\n",
    "    'BMPR1A': '657',\n",
    "    'ACTA2': '59',\n",
    "    'KCNQ1': '3784',\n",
    "    'MYBPC3': '4607',\n",
    "    'SDHAF2': '54949',\n",
    "    'SDHD': '6392',\n",
    "    'MYL2': '4633',\n",
    "    'RB1': '5925',\n",
    "    'ATP7B': '540',\n",
    "    'MAX': '4149',\n",
    "    'ACTC1': '70',\n",
    "    'SMAD3': '4088',\n",
    "    'TSC2': '7249',\n",
    "    'MYH11': '4629',\n",
    "    'PALB2': '79728',\n",
    "    'BRCA1': '672',\n",
    "    'SMAD4': '4089',\n",
    "    'LDLR': '3949',\n",
    "    'RYR1': '6261',\n",
    "    'TNNI3': '7137',\n",
    "    'OTC': '5009',\n",
    "    'SDHB': '6390',\n",
    "    'MUTYH': '4595',\n",
    "    'RPE65': '6121',\n",
    "    'LMNA': '4000',\n",
    "    'APOB': '338',\n",
    "    'MSH6': '2956',\n",
    "    'ENG': '2022',\n",
    "    'RET': '5979',\n",
    "    'PTEN': '5728',\n",
    "    'MEN1': '4221',\n",
    "    'PKP2': '5318',\n",
    "    'HNF1A': '6927',\n",
    "    'TPM1': '7168',\n",
    "    'TP53': '7157',\n",
    "    'DSG2': '1829'\n",
    "\n",
    "}"
   ]
  },
  {
   "cell_type": "code",
   "execution_count": 14,
   "metadata": {},
   "outputs": [],
   "source": [
    "variant_type_mapping = {'duplication':\"SO_1000035\",\n",
    "'copy_number_gain': \"SO_0001742\",\n",
    "'copy_number_variation': \"SO_0001019\",\n",
    "'herv_insertion': \"SO_0002187\",\n",
    "'alu_insertion': \"SO_0002063\",\n",
    "'insertion': \"SO_0000667\",\n",
    "'sva_insertion': \"SO_0002065\",\n",
    "'line1_insertion': \"SO_0002064\",\n",
    "'deletion': \"SO_0000159\",\n",
    "'copy_number_loss': \"SO_0001743\",\n",
    "'alu_deletion': \"SO_0002070\",\n",
    "'herv_deletion': \"SO_0002067\",\n",
    "'line1_deletion': \"SO_0002069\",\n",
    "'sva_deletion': \"SO_0002068\",\n",
    "}"
   ]
  },
  {
   "cell_type": "code",
   "execution_count": 15,
   "metadata": {},
   "outputs": [],
   "source": [
    "new_uri_mapping = {} # El objetivo es acaparar tanto unas URIs de los CHROM,  es que parece que pueden ser str o valores enteros\n",
    "\n",
    "for k, v in uri_mapping.items():\n",
    "    if isinstance(k, int):  # Si la clave es entera, añadir tanto la versión entera como la versión string\n",
    "        new_uri_mapping[k] = v\n",
    "        new_uri_mapping[str(k)] = v\n",
    "    else:  # Si la clave ya es un string, solo añadir esa clave\n",
    "        new_uri_mapping[k] = v\n",
    "\n",
    "#print(new_uri_mapping)"
   ]
  },
  {
   "cell_type": "code",
   "execution_count": 16,
   "metadata": {},
   "outputs": [],
   "source": [
    "# Crear una nueva columna en el DataFrame mapeando los valores\n",
    "df_combinado['CHROM_uri'] = df_combinado['CHROM'].map(new_uri_mapping)"
   ]
  },
  {
   "cell_type": "code",
   "execution_count": 17,
   "metadata": {},
   "outputs": [],
   "source": [
    "# Supongamos que tu dataframe se llama df y tu diccionario se llama descrip_alt_label_mapping\n",
    "df_combinado['desc'] = df_combinado['CHROM'].map(descrip_alt_label_mapping)"
   ]
  },
  {
   "cell_type": "code",
   "execution_count": 18,
   "metadata": {},
   "outputs": [],
   "source": [
    "df_expanded = df_combinado.assign(method_uri=df_combinado['method_uri'].str.split(',')).explode('method_uri')"
   ]
  },
  {
   "cell_type": "code",
   "execution_count": 19,
   "metadata": {},
   "outputs": [],
   "source": [
    "df_expanded['variant_type_uri'] = df_expanded['variant_type'].map(variant_type_mapping)"
   ]
  },
  {
   "cell_type": "code",
   "execution_count": 20,
   "metadata": {},
   "outputs": [],
   "source": [
    "# Dividir la columna 'method' en listas donde cada método es un elemento separado\n",
    "df_expanded['method'] = df_expanded['method'].str.split(';')\n",
    "\n",
    "# Usar explode para crear una nueva fila por cada elemento de la lista en la columna 'method'\n",
    "df_exploded_method = df_expanded.explode('method')"
   ]
  },
  {
   "cell_type": "code",
   "execution_count": 21,
   "metadata": {},
   "outputs": [
    {
     "name": "stdout",
     "output_type": "stream",
     "text": [
      "            ID_merged CHROM        POS        END      method variant_type  \\\n",
      "3564353  VARHS3564354     5  150823600  150843707     Curated     deletion   \n",
      "3564353  VARHS3564354     5  150823600  150843707     Merging     deletion   \n",
      "3564353  VARHS3564354     5  150823600  150843707  Sequencing     deletion   \n",
      "6869836  VARHS6869837     8  113922162  113922454     Curated     deletion   \n",
      "6869836  VARHS6869837     8  113922162  113922454     Merging     deletion   \n",
      "...               ...   ...        ...        ...         ...          ...   \n",
      "750383    VARHS750384     3  135976981  135982612  Sequencing     deletion   \n",
      "3872092  VARHS3872093     6   14745051   14745458     Curated     deletion   \n",
      "3872092  VARHS3872093     6   14745051   14745458     Merging     deletion   \n",
      "3872092  VARHS3872093     6   14745051   14745458  Sequencing     deletion   \n",
      "2153954  VARHS2153955     4  136150647  136155884  Sequencing     deletion   \n",
      "\n",
      "             dbvar_id gene     DB       ID_base method_uri method_uri_efo  \\\n",
      "3564353  essv19806087  NaN  dbVar  VARHS3564354        NaN            NaN   \n",
      "3564353  essv19806087  NaN  dbVar  VARHS3564354        NaN            NaN   \n",
      "3564353  essv19806087  NaN  dbVar  VARHS3564354        NaN            NaN   \n",
      "6869836  essv21326460  NaN  dbVar  VARHS6869837        NaN            NaN   \n",
      "6869836  essv21326460  NaN  dbVar  VARHS6869837        NaN            NaN   \n",
      "...               ...  ...    ...           ...        ...            ...   \n",
      "750383    nssv6278733  NaN  dbVar   VARHS750384        NaN    EFO_0002693   \n",
      "3872092  essv12199011  NaN  dbVar  VARHS3872093        NaN            NaN   \n",
      "3872092  essv12199011  NaN  dbVar  VARHS3872093        NaN            NaN   \n",
      "3872092  essv12199011  NaN  dbVar  VARHS3872093        NaN            NaN   \n",
      "2153954   nssv6435154  NaN  dbVar  VARHS2153955        NaN    EFO_0002693   \n",
      "\n",
      "        method_uri_bao     CHROM_uri             desc variant_type_uri  \\\n",
      "3564353            NaN  NC_000005.10  NC_000005.10:g.       SO_0000159   \n",
      "3564353            NaN  NC_000005.10  NC_000005.10:g.       SO_0000159   \n",
      "3564353            NaN  NC_000005.10  NC_000005.10:g.       SO_0000159   \n",
      "6869836            NaN  NC_000008.11  NC_000008.11:g.       SO_0000159   \n",
      "6869836            NaN  NC_000008.11  NC_000008.11:g.       SO_0000159   \n",
      "...                ...           ...              ...              ...   \n",
      "750383     BAO_0040026  NC_000003.12  NC_000003.12:g.       SO_0000159   \n",
      "3872092            NaN  NC_000006.12  NC_000006.12:g.       SO_0000159   \n",
      "3872092            NaN  NC_000006.12  NC_000006.12:g.       SO_0000159   \n",
      "3872092            NaN  NC_000006.12  NC_000006.12:g.       SO_0000159   \n",
      "2153954    BAO_0040026  NC_000004.12  NC_000004.12:g.       SO_0000159   \n",
      "\n",
      "        gene_uri  \n",
      "3564353      NaN  \n",
      "3564353      NaN  \n",
      "3564353      NaN  \n",
      "6869836      NaN  \n",
      "6869836      NaN  \n",
      "...          ...  \n",
      "750383       NaN  \n",
      "3872092      NaN  \n",
      "3872092      NaN  \n",
      "3872092      NaN  \n",
      "2153954      NaN  \n",
      "\n",
      "[4373511 rows x 17 columns]\n"
     ]
    }
   ],
   "source": [
    "# Asegúrate de que la columna 'gene' existe en tu DataFrame\n",
    "if 'gene' in df_exploded_method.columns:\n",
    "    # Usa map() para crear la nueva columna 'gene_uri' basada en el diccionario genes_mapping\n",
    "    df_exploded_method['gene_uri'] = df_exploded_method['gene'].map(genes_mapping)\n",
    "\n",
    "    # Muestra el DataFrame resultante\n",
    "    print(df_exploded_method)\n",
    "else:\n",
    "    print(\"La columna 'gene' no existe en el DataFrame.\")"
   ]
  },
  {
   "cell_type": "code",
   "execution_count": 22,
   "metadata": {},
   "outputs": [
    {
     "name": "stdout",
     "output_type": "stream",
     "text": [
      "            ID_merged CHROM        POS        END      method variant_type  \\\n",
      "3564353  VARHS3564354     5  150823600  150843707     Curated     deletion   \n",
      "3564353  VARHS3564354     5  150823600  150843707     Merging     deletion   \n",
      "3564353  VARHS3564354     5  150823600  150843707  Sequencing     deletion   \n",
      "6869836  VARHS6869837     8  113922162  113922454     Curated     deletion   \n",
      "6869836  VARHS6869837     8  113922162  113922454     Merging     deletion   \n",
      "...               ...   ...        ...        ...         ...          ...   \n",
      "750383    VARHS750384     3  135976981  135982612  Sequencing     deletion   \n",
      "3872092  VARHS3872093     6   14745051   14745458     Curated     deletion   \n",
      "3872092  VARHS3872093     6   14745051   14745458     Merging     deletion   \n",
      "3872092  VARHS3872093     6   14745051   14745458  Sequencing     deletion   \n",
      "2153954  VARHS2153955     4  136150647  136155884  Sequencing     deletion   \n",
      "\n",
      "             dbvar_id gene     DB       ID_base method_uri method_uri_efo  \\\n",
      "3564353  essv19806087  NaN  dbVar  VARHS3564354        NaN            NaN   \n",
      "3564353  essv19806087  NaN  dbVar  VARHS3564354        NaN            NaN   \n",
      "3564353  essv19806087  NaN  dbVar  VARHS3564354        NaN            NaN   \n",
      "6869836  essv21326460  NaN  dbVar  VARHS6869837        NaN            NaN   \n",
      "6869836  essv21326460  NaN  dbVar  VARHS6869837        NaN            NaN   \n",
      "...               ...  ...    ...           ...        ...            ...   \n",
      "750383    nssv6278733  NaN  dbVar   VARHS750384        NaN    EFO_0002693   \n",
      "3872092  essv12199011  NaN  dbVar  VARHS3872093        NaN            NaN   \n",
      "3872092  essv12199011  NaN  dbVar  VARHS3872093        NaN            NaN   \n",
      "3872092  essv12199011  NaN  dbVar  VARHS3872093        NaN            NaN   \n",
      "2153954   nssv6435154  NaN  dbVar  VARHS2153955        NaN    EFO_0002693   \n",
      "\n",
      "        method_uri_bao     CHROM_uri             desc variant_type_uri  \\\n",
      "3564353            NaN  NC_000005.10  NC_000005.10:g.       SO_0000159   \n",
      "3564353            NaN  NC_000005.10  NC_000005.10:g.       SO_0000159   \n",
      "3564353            NaN  NC_000005.10  NC_000005.10:g.       SO_0000159   \n",
      "6869836            NaN  NC_000008.11  NC_000008.11:g.       SO_0000159   \n",
      "6869836            NaN  NC_000008.11  NC_000008.11:g.       SO_0000159   \n",
      "...                ...           ...              ...              ...   \n",
      "750383     BAO_0040026  NC_000003.12  NC_000003.12:g.       SO_0000159   \n",
      "3872092            NaN  NC_000006.12  NC_000006.12:g.       SO_0000159   \n",
      "3872092            NaN  NC_000006.12  NC_000006.12:g.       SO_0000159   \n",
      "3872092            NaN  NC_000006.12  NC_000006.12:g.       SO_0000159   \n",
      "2153954    BAO_0040026  NC_000004.12  NC_000004.12:g.       SO_0000159   \n",
      "\n",
      "        gene_uri  \n",
      "3564353      NaN  \n",
      "3564353      NaN  \n",
      "3564353      NaN  \n",
      "6869836      NaN  \n",
      "6869836      NaN  \n",
      "...          ...  \n",
      "750383       NaN  \n",
      "3872092      NaN  \n",
      "3872092      NaN  \n",
      "3872092      NaN  \n",
      "2153954      NaN  \n",
      "\n",
      "[5012203 rows x 17 columns]\n"
     ]
    }
   ],
   "source": [
    "if 'variant_type' in df_exploded_method.columns:\n",
    "    # Divide los valores de 'variant_type' antes de explotar\n",
    "    df_exploded_method['variant_type'] = df_exploded_method['variant_type'].str.split(';')\n",
    "    df_exploded_variant = df_exploded_method.explode('variant_type')\n",
    "\n",
    "    # Ahora, reemplaza los valores NaN por 'Unknown'\n",
    "    df_exploded_variant['variant_type'] = df_exploded_variant['variant_type'].fillna('Unknown')\n",
    "\n",
    "    # Muestra el DataFrame resultante\n",
    "    print(df_exploded_variant)\n",
    "else:\n",
    "    print(\"La columna 'variant_type' no existe en el DataFrame.\")"
   ]
  },
  {
   "cell_type": "code",
   "execution_count": 23,
   "metadata": {},
   "outputs": [
    {
     "name": "stdout",
     "output_type": "stream",
     "text": [
      "ID_merged              VARHS8506102\n",
      "CHROM                            15\n",
      "POS                        42111518\n",
      "END                        42115486\n",
      "method                      Merging\n",
      "variant_type               deletion\n",
      "dbvar_id                essv5044848\n",
      "gene                            NaN\n",
      "DB                            dbVar\n",
      "ID_base                VARHS8506102\n",
      "method_uri                      NaN\n",
      "method_uri_efo                  NaN\n",
      "method_uri_bao                  NaN\n",
      "CHROM_uri              NC_000015.10\n",
      "desc                NC_000015.10:g.\n",
      "variant_type_uri                NaN\n",
      "gene_uri                        NaN\n",
      "Name: 8506101, dtype: object\n"
     ]
    }
   ],
   "source": [
    "specific_row = df_exploded_variant.iloc[2000]\n",
    "print(specific_row)"
   ]
  },
  {
   "cell_type": "code",
   "execution_count": 24,
   "metadata": {},
   "outputs": [
    {
     "name": "stdout",
     "output_type": "stream",
     "text": [
      "              ID_merged CHROM        POS        END      method  \\\n",
      "3564353    VARHS3564354     5  150823600  150843707     Curated   \n",
      "3564353    VARHS3564354     5  150823600  150843707     Merging   \n",
      "3564353    VARHS3564354     5  150823600  150843707  Sequencing   \n",
      "6869836    VARHS6869837     8  113922162  113922454     Curated   \n",
      "6869836    VARHS6869837     8  113922162  113922454     Merging   \n",
      "6869836    VARHS6869837     8  113922162  113922454  Sequencing   \n",
      "11811906  VARHS11811907    22   49103537   49106399  Sequencing   \n",
      "5488514    VARHS5488515     7   67512642   67523698  Sequencing   \n",
      "11658025  VARHS11658026    22   28699835   28712022  Sequencing   \n",
      "6849735    VARHS6849736     8  111281828  111284913     Curated   \n",
      "6849735    VARHS6849736     8  111281828  111284913     Merging   \n",
      "\n",
      "              variant_type      dbvar_id gene     DB        ID_base  \\\n",
      "3564353           deletion  essv19806087  NaN  dbVar   VARHS3564354   \n",
      "3564353           deletion  essv19806087  NaN  dbVar   VARHS3564354   \n",
      "3564353           deletion  essv19806087  NaN  dbVar   VARHS3564354   \n",
      "6869836           deletion  essv21326460  NaN  dbVar   VARHS6869837   \n",
      "6869836           deletion  essv21326460  NaN  dbVar   VARHS6869837   \n",
      "6869836           deletion  essv21326460  NaN  dbVar   VARHS6869837   \n",
      "11811906          deletion  nssv18456731  NaN  dbVar  VARHS11811907   \n",
      "5488514           deletion   nssv6940839  NaN  dbVar   VARHS5488515   \n",
      "11658025  copy_number_loss  nssv14232781  NaN  dbVar  VARHS11658026   \n",
      "6849735           deletion  essv21317402  NaN  dbVar   VARHS6849736   \n",
      "6849735           deletion  essv21317402  NaN  dbVar   VARHS6849736   \n",
      "\n",
      "         method_uri method_uri_efo method_uri_bao     CHROM_uri  \\\n",
      "3564353         NaN            NaN            NaN  NC_000005.10   \n",
      "3564353         NaN            NaN            NaN  NC_000005.10   \n",
      "3564353         NaN            NaN            NaN  NC_000005.10   \n",
      "6869836         NaN            NaN            NaN  NC_000008.11   \n",
      "6869836         NaN            NaN            NaN  NC_000008.11   \n",
      "6869836         NaN            NaN            NaN  NC_000008.11   \n",
      "11811906        NaN    EFO_0002693    BAO_0040026  NC_000022.11   \n",
      "5488514         NaN    EFO_0002693    BAO_0040026  NC_000007.14   \n",
      "11658025        NaN    EFO_0002693    BAO_0040026  NC_000022.11   \n",
      "6849735         NaN            NaN            NaN  NC_000008.11   \n",
      "6849735         NaN            NaN            NaN  NC_000008.11   \n",
      "\n",
      "                     desc variant_type_uri gene_uri  \n",
      "3564353   NC_000005.10:g.       SO_0000159      NaN  \n",
      "3564353   NC_000005.10:g.       SO_0000159      NaN  \n",
      "3564353   NC_000005.10:g.       SO_0000159      NaN  \n",
      "6869836   NC_000008.11:g.       SO_0000159      NaN  \n",
      "6869836   NC_000008.11:g.       SO_0000159      NaN  \n",
      "6869836   NC_000008.11:g.       SO_0000159      NaN  \n",
      "11811906              NaN       SO_0000159      NaN  \n",
      "5488514   NC_000007.14:g.       SO_0000159      NaN  \n",
      "11658025  NC_000022.11:g.       SO_0001743      NaN  \n",
      "6849735   NC_000008.11:g.       SO_0000159      NaN  \n",
      "6849735   NC_000008.11:g.       SO_0000159      NaN  \n"
     ]
    }
   ],
   "source": [
    "print(df_exploded_variant.head(11))"
   ]
  },
  {
   "cell_type": "code",
   "execution_count": 25,
   "metadata": {},
   "outputs": [
    {
     "name": "stdout",
     "output_type": "stream",
     "text": [
      "Número de filas en el DataFrame: 11831671\n"
     ]
    }
   ],
   "source": [
    "num_rows = df.shape[0]\n",
    "print(\"Número de filas en el DataFrame:\", num_rows)"
   ]
  },
  {
   "cell_type": "code",
   "execution_count": 26,
   "metadata": {},
   "outputs": [
    {
     "name": "stdout",
     "output_type": "stream",
     "text": [
      "Número de filas en el DataFrame: 11831671\n"
     ]
    }
   ],
   "source": [
    "num_rows = len(df)\n",
    "print(\"Número de filas en el DataFrame:\", num_rows)"
   ]
  },
  {
   "cell_type": "code",
   "execution_count": 27,
   "metadata": {},
   "outputs": [
    {
     "name": "stdout",
     "output_type": "stream",
     "text": [
      "Valores únicos en la columna 'method_uri_bao':\n",
      "['BAO_0040026']\n"
     ]
    }
   ],
   "source": [
    "# Como tenemos valores NaN voy a ver el contenido de las lineas a ver que se debe y vemos si tienen algun valor distinto a NaN\n",
    "if 'method_uri_bao' in df_exploded_variant.columns:\n",
    "    # Obtener los valores únicos en la columna 'SCIDN'\n",
    "    unique_values = df_exploded_variant['method_uri_bao'].dropna().unique()\n",
    "    print(\"Valores únicos en la columna 'method_uri_bao':\")\n",
    "    print(unique_values)\n",
    "else:\n",
    "    print(\"La columna 'method_uri_bao' no existe en el DataFrame.\") "
   ]
  },
  {
   "cell_type": "code",
   "execution_count": 28,
   "metadata": {},
   "outputs": [
    {
     "name": "stdout",
     "output_type": "stream",
     "text": [
      "DataFrame guardado con éxito en 'Salidas\\salida_dbVar.tsv'\n"
     ]
    }
   ],
   "source": [
    "# Define la ruta y el nombre del archivo TSV de salida\n",
    "archivo_salida_tsv = 'salida_dbVar.tsv'\n",
    "carpeta_salida = 'Salidas'\n",
    "archivo_salida_tsv = os.path.join(carpeta_salida, archivo_salida_tsv)\n",
    "# Guardar el DataFrame en un archivo TSV\n",
    "df_exploded_variant.to_csv(archivo_salida_tsv, sep='\\t', index=False)\n",
    "\n",
    "print(f\"DataFrame guardado con éxito en '{archivo_salida_tsv}'\")"
   ]
  },
  {
   "cell_type": "code",
   "execution_count": 29,
   "metadata": {},
   "outputs": [],
   "source": [
    "solo_tres_filas = df_exploded_variant.head(1500)\n",
    "\n",
    "# Guardar las primeras tres filas en un archivo CSV\n",
    "solo_tres_filas.to_csv('primeras_tripletas_dbVar.tsv', index=False)  # index=False para no incluir el índice del DataFrame en el archivo"
   ]
  },
  {
   "cell_type": "code",
   "execution_count": 30,
   "metadata": {},
   "outputs": [
    {
     "data": {
      "text/plain": [
       "'Consultas'"
      ]
     },
     "execution_count": 30,
     "metadata": {},
     "output_type": "execute_result"
    }
   ],
   "source": [
    "'''Consultas'''"
   ]
  },
  {
   "cell_type": "code",
   "execution_count": 31,
   "metadata": {},
   "outputs": [
    {
     "name": "stdout",
     "output_type": "stream",
     "text": [
      "            ID_merged CHROM        POS        END      method  \\\n",
      "3564353  VARHS3564354     5  150823600  150843707     Curated   \n",
      "3564353  VARHS3564354     5  150823600  150843707     Merging   \n",
      "3564353  VARHS3564354     5  150823600  150843707  Sequencing   \n",
      "6869836  VARHS6869837     8  113922162  113922454     Curated   \n",
      "6869836  VARHS6869837     8  113922162  113922454     Merging   \n",
      "...               ...   ...        ...        ...         ...   \n",
      "4348        VARHS4349     2   47582865   47582865     Merging   \n",
      "4296        VARHS4297     2   47582865   47582865     Merging   \n",
      "7618        VARHS7619    11   32412717   32412717  Sequencing   \n",
      "9281        VARHS9282    13   48432363   48432363     Merging   \n",
      "510          VARHS511     6  123433713  123437152     Merging   \n",
      "\n",
      "             variant_type      dbvar_id  gene     DB       ID_base method_uri  \\\n",
      "3564353          deletion  essv19806087   NaN  dbVar  VARHS3564354        NaN   \n",
      "3564353          deletion  essv19806087   NaN  dbVar  VARHS3564354        NaN   \n",
      "3564353          deletion  essv19806087   NaN  dbVar  VARHS3564354        NaN   \n",
      "6869836          deletion  essv21326460   NaN  dbVar  VARHS6869837        NaN   \n",
      "6869836          deletion  essv21326460   NaN  dbVar  VARHS6869837        NaN   \n",
      "...                   ...           ...   ...    ...           ...        ...   \n",
      "4348        sva_insertion  essv17646887  MSH2  dbVar     VARHS4349        NaN   \n",
      "4296        sva_insertion  essv17646835  MSH2  dbVar     VARHS4297        NaN   \n",
      "7618            insertion  nssv15757386   WT1  dbVar     VARHS7619        NaN   \n",
      "9281            insertion  essv23123545   RB1  dbVar     VARHS9282        NaN   \n",
      "510      copy_number_gain  essv20362380  TRDN  dbVar      VARHS511        NaN   \n",
      "\n",
      "        method_uri_efo method_uri_bao     CHROM_uri             desc  \\\n",
      "3564353            NaN            NaN  NC_000005.10  NC_000005.10:g.   \n",
      "3564353            NaN            NaN  NC_000005.10  NC_000005.10:g.   \n",
      "3564353            NaN            NaN  NC_000005.10  NC_000005.10:g.   \n",
      "6869836            NaN            NaN  NC_000008.11  NC_000008.11:g.   \n",
      "6869836            NaN            NaN  NC_000008.11  NC_000008.11:g.   \n",
      "...                ...            ...           ...              ...   \n",
      "4348               NaN            NaN  NC_000002.12              NaN   \n",
      "4296               NaN            NaN  NC_000002.12              NaN   \n",
      "7618       EFO_0002693    BAO_0040026  NC_000011.10              NaN   \n",
      "9281               NaN            NaN  NC_000013.11              NaN   \n",
      "510                NaN            NaN  NC_000006.12              NaN   \n",
      "\n",
      "        variant_type_uri gene_uri  \n",
      "3564353       SO_0000159      NaN  \n",
      "3564353       SO_0000159      NaN  \n",
      "3564353       SO_0000159      NaN  \n",
      "6869836       SO_0000159      NaN  \n",
      "6869836       SO_0000159      NaN  \n",
      "...                  ...      ...  \n",
      "4348          SO_0002065     4436  \n",
      "4296          SO_0002065     4436  \n",
      "7618          SO_0000667     7490  \n",
      "9281                 NaN     5925  \n",
      "510           SO_0001742    10345  \n",
      "\n",
      "[61 rows x 17 columns]\n"
     ]
    }
   ],
   "source": [
    "# Agrupa por 'variant_type' y selecciona los primeros 5 registros de cada grupo\n",
    "consulta_1 = df_exploded_variant.groupby('variant_type').head(5)\n",
    "print(consulta_1)"
   ]
  },
  {
   "cell_type": "code",
   "execution_count": 32,
   "metadata": {},
   "outputs": [],
   "source": [
    "# Guardar el DataFrame en un archivo CSV\n",
    "consulta_1.to_csv('consulta_1_dbVar.tsv', index=False)"
   ]
  },
  {
   "cell_type": "code",
   "execution_count": 33,
   "metadata": {},
   "outputs": [],
   "source": [
    "consulta_2 = df_exploded_variant[df_exploded_variant['variant_type'] == 'deletion']"
   ]
  },
  {
   "cell_type": "code",
   "execution_count": 34,
   "metadata": {},
   "outputs": [],
   "source": [
    "# Guarda el DataFrame filtrado en un archivo CSV\n",
    "consulta_2.to_csv('consulta_2_dbVar.tsv', index=False)"
   ]
  },
  {
   "cell_type": "code",
   "execution_count": 35,
   "metadata": {},
   "outputs": [
    {
     "name": "stdout",
     "output_type": "stream",
     "text": [
      "      ID_merged CHROM       POS       END      method   variant_type  \\\n",
      "7608  VARHS7609    10  88980189  88980189     Merging  alu_insertion   \n",
      "7601  VARHS7602    10  88980189  88980189     Merging  alu_insertion   \n",
      "7572  VARHS7573    10  88980172  88980172  Sequencing  alu_insertion   \n",
      "7591  VARHS7592    10  88980189  88980189     Merging  alu_insertion   \n",
      "7580  VARHS7581    10  88980189  88980189     Merging  alu_insertion   \n",
      "7588  VARHS7589    10  88980189  88980189     Merging  alu_insertion   \n",
      "7597  VARHS7598    10  88980189  88980189     Merging  alu_insertion   \n",
      "\n",
      "          dbvar_id   gene     DB    ID_base method_uri method_uri_efo  \\\n",
      "7608  essv22087211  ACTA2  dbVar  VARHS7609        NaN            NaN   \n",
      "7601  essv22087204  ACTA2  dbVar  VARHS7602        NaN            NaN   \n",
      "7572  nssv15993614  ACTA2  dbVar  VARHS7573        NaN    EFO_0002693   \n",
      "7591  essv22087194  ACTA2  dbVar  VARHS7592        NaN            NaN   \n",
      "7580  essv22087183  ACTA2  dbVar  VARHS7581        NaN            NaN   \n",
      "7588  essv22087191  ACTA2  dbVar  VARHS7589        NaN            NaN   \n",
      "7597  essv22087200  ACTA2  dbVar  VARHS7598        NaN            NaN   \n",
      "\n",
      "     method_uri_bao     CHROM_uri desc variant_type_uri gene_uri  \n",
      "7608            NaN  NC_000010.11  NaN       SO_0002063       59  \n",
      "7601            NaN  NC_000010.11  NaN       SO_0002063       59  \n",
      "7572    BAO_0040026  NC_000010.11  NaN       SO_0002063       59  \n",
      "7591            NaN  NC_000010.11  NaN       SO_0002063       59  \n",
      "7580            NaN  NC_000010.11  NaN       SO_0002063       59  \n",
      "7588            NaN  NC_000010.11  NaN       SO_0002063       59  \n",
      "7597            NaN  NC_000010.11  NaN       SO_0002063       59  \n"
     ]
    }
   ],
   "source": [
    "# Filtra el DataFrame para obtener solo los registros donde gene es 'BRCA1'\n",
    "consulta_3 = df_exploded_variant[df_exploded_variant['gene'] == 'ACTA2']\n",
    "print(consulta_3)"
   ]
  },
  {
   "cell_type": "code",
   "execution_count": 36,
   "metadata": {},
   "outputs": [],
   "source": [
    "# Guarda el DataFrame filtrado en un archivo CSV llamado 'consulta_3.csv'\n",
    "consulta_3.to_csv('consulta_3_dbVar.tsv', index=False)"
   ]
  },
  {
   "cell_type": "code",
   "execution_count": null,
   "metadata": {},
   "outputs": [],
   "source": []
  },
  {
   "cell_type": "code",
   "execution_count": 37,
   "metadata": {},
   "outputs": [
    {
     "name": "stdout",
     "output_type": "stream",
     "text": [
      "            ID_merged CHROM       POS       END      method variant_type  \\\n",
      "9763874  VARHS9763875    17  73373857  73374687     Curated     deletion   \n",
      "9763874  VARHS9763875    17  73373857  73374687     Merging     deletion   \n",
      "9763874  VARHS9763875    17  73373857  73374687  Sequencing     deletion   \n",
      "9529370  VARHS9529371    17  22322811  22324560     Curated     deletion   \n",
      "9529370  VARHS9529371    17  22322811  22324560  Sequencing     deletion   \n",
      "...               ...   ...       ...       ...         ...          ...   \n",
      "9825625  VARHS9825626    17  81503458  81504445     Curated     deletion   \n",
      "9825625  VARHS9825626    17  81503458  81504445     Merging     deletion   \n",
      "9825625  VARHS9825626    17  81503458  81504445  Sequencing     deletion   \n",
      "9610645  VARHS9610646    17  44353673  44353931  Sequencing     deletion   \n",
      "9722786  VARHS9722787    17  65497270  65497272  Sequencing     deletion   \n",
      "\n",
      "             dbvar_id gene     DB       ID_base method_uri method_uri_efo  \\\n",
      "9763874  essv15736696  NaN  dbVar  VARHS9763875        NaN            NaN   \n",
      "9763874  essv15736696  NaN  dbVar  VARHS9763875        NaN            NaN   \n",
      "9763874  essv15736696  NaN  dbVar  VARHS9763875        NaN            NaN   \n",
      "9529370  nssv16565706  NaN  dbVar  VARHS9529371        NaN            NaN   \n",
      "9529370  nssv16565706  NaN  dbVar  VARHS9529371        NaN            NaN   \n",
      "...               ...  ...    ...           ...        ...            ...   \n",
      "9825625   essv6220818  NaN  dbVar  VARHS9825626        NaN            NaN   \n",
      "9825625   essv6220818  NaN  dbVar  VARHS9825626        NaN            NaN   \n",
      "9825625   essv6220818  NaN  dbVar  VARHS9825626        NaN            NaN   \n",
      "9610645   essv9441625  NaN  dbVar  VARHS9610646        NaN    EFO_0002693   \n",
      "9722786   essv3718869  NaN  dbVar  VARHS9722787        NaN    EFO_0002693   \n",
      "\n",
      "        method_uri_bao     CHROM_uri             desc variant_type_uri  \\\n",
      "9763874            NaN  NC_000017.11  NC_000017.11:g.       SO_0000159   \n",
      "9763874            NaN  NC_000017.11  NC_000017.11:g.       SO_0000159   \n",
      "9763874            NaN  NC_000017.11  NC_000017.11:g.       SO_0000159   \n",
      "9529370            NaN  NC_000017.11  NC_000017.11:g.       SO_0000159   \n",
      "9529370            NaN  NC_000017.11  NC_000017.11:g.       SO_0000159   \n",
      "...                ...           ...              ...              ...   \n",
      "9825625            NaN  NC_000017.11  NC_000017.11:g.       SO_0000159   \n",
      "9825625            NaN  NC_000017.11  NC_000017.11:g.       SO_0000159   \n",
      "9825625            NaN  NC_000017.11  NC_000017.11:g.       SO_0000159   \n",
      "9610645    BAO_0040026  NC_000017.11  NC_000017.11:g.       SO_0000159   \n",
      "9722786    BAO_0040026  NC_000017.11  NC_000017.11:g.       SO_0000159   \n",
      "\n",
      "        gene_uri  \n",
      "9763874      NaN  \n",
      "9763874      NaN  \n",
      "9763874      NaN  \n",
      "9529370      NaN  \n",
      "9529370      NaN  \n",
      "...          ...  \n",
      "9825625      NaN  \n",
      "9825625      NaN  \n",
      "9825625      NaN  \n",
      "9610645      NaN  \n",
      "9722786      NaN  \n",
      "\n",
      "[219405 rows x 17 columns]\n"
     ]
    }
   ],
   "source": [
    "# Filtra el DataFrame para obtener solo los registros donde CHROM es igual a 17\n",
    "consulta_5 = df_exploded_variant[df_exploded_variant['CHROM'] == 17]\n",
    "print(consulta_5)"
   ]
  },
  {
   "cell_type": "code",
   "execution_count": 38,
   "metadata": {},
   "outputs": [],
   "source": [
    "# Guarda el DataFrame filtrado en un archivo CSV llamado 'consulta_5.csv'\n",
    "consulta_5.to_csv('consulta_5_dbVar.tsv', index=False)"
   ]
  }
 ],
 "metadata": {
  "kernelspec": {
   "display_name": "base",
   "language": "python",
   "name": "python3"
  },
  "language_info": {
   "codemirror_mode": {
    "name": "ipython",
    "version": 3
   },
   "file_extension": ".py",
   "mimetype": "text/x-python",
   "name": "python",
   "nbconvert_exporter": "python",
   "pygments_lexer": "ipython3",
   "version": "3.10.9"
  }
 },
 "nbformat": 4,
 "nbformat_minor": 2
}
