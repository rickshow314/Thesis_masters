{
 "cells": [
  {
   "cell_type": "code",
   "execution_count": 13,
   "metadata": {},
   "outputs": [
    {
     "name": "stdout",
     "output_type": "stream",
     "text": [
      "  CHROM        POS        END      method variant_type      variant   gene\n",
      "0     1  115690941  115807344  Sequencing  duplication  nssv4298193  CASQ2\n",
      "0     1  115690941  115807344  Sequencing  duplication  nssv4298194  CASQ2\n",
      "0     1  115690941  115807344  Sequencing  duplication  nssv4298195  CASQ2\n",
      "0     1  115690941  115807344  Sequencing  duplication  nssv4298196  CASQ2\n",
      "0     1  115690941  115807344  Sequencing  duplication  nssv4298197  CASQ2\n"
     ]
    }
   ],
   "source": [
    "import gzip\n",
    "import pandas as pd\n",
    "import os\n",
    "\n",
    "# Configuraciones de visualización (opcional)\n",
    "#pd.set_option('display.max_columns', None)\n",
    "#pd.set_option('display.width', 200)\n",
    "#pd.set_option('display.max_rows', 10)\n",
    "\n",
    "archivo_gz = 'GRCh38.nr_duplications.common.acmg_genes.tsv.gz'\n",
    "archivo_salida_tsv = 'archivo_descomprimido.tsv'\n",
    "\n",
    "# Leer el archivo comprimido\n",
    "with gzip.open(archivo_gz, 'rt') as f:\n",
    "    df = pd.read_csv(f, sep='\\t', quotechar='\"', escapechar='\\\\', header=1)\n",
    "\n",
    "# Verificación inicial de los datos\n",
    "#print(df.head())\n",
    "#print(df.columns)\n",
    "\n",
    "# Guardar los datos descomprimidos en un archivo TSV\n",
    "df.to_csv(archivo_salida_tsv, sep='\\t', index=False)\n",
    "\n",
    "# Identificar columnas completamente llenas de valores nulos\n",
    "columnas_con_nulos = [col for col in ['platform', 'clinical_significance', 'clinvar_accession'] if df[col].isnull().all()]\n",
    "#print(\"Columnas completamente llenas de valores nulos:\", columnas_con_nulos)\n",
    "\n",
    "# Opcional: eliminar estas columnas específicas si están completamente llenas de nulos\n",
    "df = df.drop(columns=columnas_con_nulos)\n",
    "df['variant'] = df['variant'].str.split(';')\n",
    "df = df.explode('variant')\n",
    "#print(df.head())\n",
    "\n",
    "# Identificar columnas que contienen al menos un valor nulo y decidir eliminarlas\n",
    "columnas_con_algun_nulo = df.columns[df.isnull().any()].tolist()\n",
    "#print(\"Columnas que serán eliminadas porque contienen al menos un valor nulo:\", columnas_con_algun_nulo)\n",
    "\n",
    "# Eliminar las columnas que contienen al menos un valor nulo\n",
    "df = df.drop(columns=columnas_con_algun_nulo)\n",
    "#print(df.head())\n",
    "\n",
    "# Seleccionar y verificar un subconjunto específico de columnas\n",
    "df_1 = df[['#chr', 'outermost_start', 'outermost_stop', 'method', 'variant_type', 'variant', 'gene']]\n",
    "df_2 = df_1.copy()\n",
    "df_2.rename(columns={'#chr': 'CHROM', 'outermost_start': 'POS', 'outermost_stop': 'END'}, inplace=True)\n",
    "\n",
    "# Verificación final del resultado\n",
    "print(df_2.head())\n",
    "\n"
   ]
  },
  {
   "cell_type": "code",
   "execution_count": 14,
   "metadata": {},
   "outputs": [
    {
     "name": "stdout",
     "output_type": "stream",
     "text": [
      "CHROM                     1\n",
      "POS               115690941\n",
      "END               115807344\n",
      "method           Sequencing\n",
      "variant_type    duplication\n",
      "variant         nssv4298194\n",
      "gene                  CASQ2\n",
      "Name: 0, dtype: object\n"
     ]
    }
   ],
   "source": [
    "specific_row = df_2.iloc[1]\n",
    "print(specific_row)"
   ]
  },
  {
   "cell_type": "code",
   "execution_count": 15,
   "metadata": {},
   "outputs": [],
   "source": [
    "# Añadir nuevas columnas que voy a necesitar\n",
    "df_2['DB'] = 'dbVar' # Columna base de datos"
   ]
  },
  {
   "cell_type": "code",
   "execution_count": 16,
   "metadata": {},
   "outputs": [
    {
     "name": "stdout",
     "output_type": "stream",
     "text": [
      "CHROM                     1\n",
      "POS               115690941\n",
      "END               115807344\n",
      "method           Sequencing\n",
      "variant_type    duplication\n",
      "variant         nssv4298194\n",
      "gene                  CASQ2\n",
      "DB                    dbVar\n",
      "Name: 0, dtype: object\n"
     ]
    }
   ],
   "source": [
    "specific_row_2 = df_2.iloc[1]\n",
    "print(specific_row_2)"
   ]
  },
  {
   "cell_type": "code",
   "execution_count": 17,
   "metadata": {},
   "outputs": [
    {
     "data": {
      "text/plain": [
       "'El criterio utilizado para eliminar las columnas es que estén completamente llenas de valores nulos. Esto significa que una columna solo será eliminada si todos sus valores son nulos. \\nEl código verifica todas las entradas de cada columna especificada y las elimina solo si cada entrada en una columna es un valor nulo.'"
      ]
     },
     "execution_count": 17,
     "metadata": {},
     "output_type": "execute_result"
    }
   ],
   "source": [
    "'''El criterio utilizado para eliminar las columnas es que estén completamente llenas de valores nulos. Esto significa que una columna solo será eliminada si todos sus valores son nulos. \n",
    "El código verifica todas las entradas de cada columna especificada y las elimina solo si cada entrada en una columna es un valor nulo.'''"
   ]
  },
  {
   "cell_type": "code",
   "execution_count": 18,
   "metadata": {},
   "outputs": [
    {
     "data": {
      "text/plain": [
       "'El criterio para eliminar las columnas en este caso es que contengan al menos un valor nulo. A diferencia del primer \\ncódigo, aquí una columna será eliminada si contiene cualquier número de valores nulos, incluso si solo es uno.'"
      ]
     },
     "execution_count": 18,
     "metadata": {},
     "output_type": "execute_result"
    }
   ],
   "source": [
    "'''El criterio para eliminar las columnas en este caso es que contengan al menos un valor nulo. A diferencia del primer \n",
    "código, aquí una columna será eliminada si contiene cualquier número de valores nulos, incluso si solo es uno.'''"
   ]
  },
  {
   "cell_type": "code",
   "execution_count": 19,
   "metadata": {},
   "outputs": [
    {
     "data": {
      "text/plain": [
       "\"Esta línea reasigna al DataFrame df manteniendo solo las columnas especificadas: '#chr', 'outermost_start', 'outermost_stop', 'method', 'variant_type', 'variant', y 'gene'. Esencialmente, filtra el DataFrame para incluir solo estas columnas, eliminando todas las demás que puedan existir. \\nSi inicialmente el DataFrame tenía más columnas, estas serán eliminadas de la vista resultante.\""
      ]
     },
     "execution_count": 19,
     "metadata": {},
     "output_type": "execute_result"
    }
   ],
   "source": [
    "'''Esta línea reasigna al DataFrame df manteniendo solo las columnas especificadas: '#chr', 'outermost_start', 'outermost_stop', 'method', 'variant_type', 'variant', y 'gene'. Esencialmente, filtra el DataFrame para incluir solo estas columnas, eliminando todas las demás que puedan existir. \n",
    "Si inicialmente el DataFrame tenía más columnas, estas serán eliminadas de la vista resultante.'''"
   ]
  },
  {
   "cell_type": "code",
   "execution_count": 20,
   "metadata": {},
   "outputs": [
    {
     "data": {
      "text/plain": [
       "\"Este código guarda el contenido del DataFrame df en un archivo TSV dentro de una carpeta llamada 'Salidas' y luego imprime un mensaje que informa al usuario de que la operación se ha completado con éxito.\""
      ]
     },
     "execution_count": 20,
     "metadata": {},
     "output_type": "execute_result"
    }
   ],
   "source": [
    "'''Este código guarda el contenido del DataFrame df en un archivo TSV dentro de una carpeta llamada 'Salidas' y luego imprime un mensaje que informa al usuario de que la operación se ha completado con éxito.'''"
   ]
  },
  {
   "cell_type": "code",
   "execution_count": 21,
   "metadata": {},
   "outputs": [
    {
     "name": "stdout",
     "output_type": "stream",
     "text": [
      "DataFrame guardado con éxito en 'Salidas'\n"
     ]
    }
   ],
   "source": [
    "# Define la ruta y el nombre del archivo TSV de salida\n",
    "archivo_salida_tsv = 'salida_GRCh38.nr_duplications.tsv'\n",
    "carpeta_salida = 'Salidas'\n",
    "archivo_salida_tsv = os.path.join(carpeta_salida, archivo_salida_tsv)\n",
    "# Guardar el DataFrame en un archivo TSV\n",
    "df_2.to_csv(archivo_salida_tsv, sep='\\t', index=False)\n",
    "\n",
    "print(f\"DataFrame guardado con éxito en '{carpeta_salida}'\")\n"
   ]
  },
  {
   "cell_type": "code",
   "execution_count": 22,
   "metadata": {},
   "outputs": [],
   "source": [
    "#archivo_gz = 'GRCh38.variant_call.clinical.conflicting_or_other.vcf.gz'\n",
    "\n",
    "# Descomprimir y leer el archivo\n",
    "#with gzip.open(archivo_gz, 'rt') as archivo:\n",
    "#    for linea in archivo:\n",
    "#        print(linea)"
   ]
  },
  {
   "cell_type": "code",
   "execution_count": 23,
   "metadata": {},
   "outputs": [
    {
     "data": {
      "text/plain": [
       "'este código verifica que todas las columnas necesarias estén presentes en un DataFrame, lo filtra \\npara retener solo estas columnas relevantes y luego guarda el DataFrame filtrado en un archivo TSV, informando al usuario del resultado de estas operaciones.'"
      ]
     },
     "execution_count": 23,
     "metadata": {},
     "output_type": "execute_result"
    }
   ],
   "source": [
    "'''este código verifica que todas las columnas necesarias estén presentes en un DataFrame, lo filtra \n",
    "para retener solo estas columnas relevantes y luego guarda el DataFrame filtrado en un archivo TSV, informando al usuario del resultado de estas operaciones.'''"
   ]
  },
  {
   "cell_type": "code",
   "execution_count": 24,
   "metadata": {},
   "outputs": [
    {
     "name": "stdout",
     "output_type": "stream",
     "text": [
      "Archivo guardado exitosamente en: archivo_filtrado.tsv\n"
     ]
    }
   ],
   "source": [
    "# Lista de columnas relevantes según tu YARRRML\n",
    "# Ajusta esta lista según las columnas que realmente estén definidas en tu YARRRML\n",
    "relevant_columns = ['#chr', 'outermost_start', 'outermost_stop', 'variant']\n",
    "\n",
    "# Verifica si todas las columnas relevantes existen en el DataFrame, para evitar errores\n",
    "missing_columns = [col for col in relevant_columns if col not in df.columns]\n",
    "if missing_columns:\n",
    "    print(\"Advertencia: Las siguientes columnas relevantes no se encontraron en el archivo:\", missing_columns)\n",
    "else:\n",
    "    # Elimina las columnas que no están en 'relevant_columns'\n",
    "    df = df[relevant_columns]\n",
    "\n",
    "    # Guarda el DataFrame resultante en un nuevo archivo\n",
    "    output_path = 'archivo_filtrado.tsv'  # Asegúrate de actualizar esta ruta\n",
    "    df.to_csv(output_path, sep='\\t', index=False)\n",
    "\n",
    "    print(f\"Archivo guardado exitosamente en: {output_path}\")"
   ]
  }
 ],
 "metadata": {
  "kernelspec": {
   "display_name": "Python 3",
   "language": "python",
   "name": "python3"
  },
  "language_info": {
   "codemirror_mode": {
    "name": "ipython",
    "version": 3
   },
   "file_extension": ".py",
   "mimetype": "text/x-python",
   "name": "python",
   "nbconvert_exporter": "python",
   "pygments_lexer": "ipython3",
   "version": "3.10.9"
  }
 },
 "nbformat": 4,
 "nbformat_minor": 2
}
