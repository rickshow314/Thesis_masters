{
 "cells": [
  {
   "cell_type": "code",
   "execution_count": 12,
   "metadata": {},
   "outputs": [
    {
     "name": "stderr",
     "output_type": "stream",
     "text": [
      "C:\\Users\\Ricardo\\AppData\\Local\\Temp\\ipykernel_3588\\87673464.py:15: DtypeWarning: Columns (0) have mixed types. Specify dtype option on import or set low_memory=False.\n",
      "  df = pd.read_csv(f, sep='\\t', quotechar='\"', escapechar='\\\\',header=1)\n"
     ]
    }
   ],
   "source": [
    "import gzip\n",
    "import pandas as pd\n",
    "import os\n",
    "\n",
    "\n",
    "#pd.set_option('display.max_columns', None)  \n",
    "#pd.set_option('display.width', 200)         \n",
    "#pd.set_option('display.max_rows', 10)       \n",
    "\n",
    "archivo_gz = 'GRCh38.nr_deletions.tsv.gz'\n",
    "\n",
    "archivo_salida_tsv = 'archivo_descomprimido.tsv'\n",
    "\n",
    "with gzip.open(archivo_gz, 'rt') as f:\n",
    "    df = pd.read_csv(f, sep='\\t', quotechar='\"', escapechar='\\\\',header=1)\n",
    "\n",
    "\n",
    "#print(df)\n",
    "#print(df.columns)\n",
    "\n",
    "df.to_csv(archivo_salida_tsv, sep='\\t', index=False)\n"
   ]
  },
  {
   "cell_type": "code",
   "execution_count": 13,
   "metadata": {},
   "outputs": [
    {
     "name": "stdout",
     "output_type": "stream",
     "text": [
      "Columnas completamente llenas de valores nulos: []\n"
     ]
    }
   ],
   "source": [
    "# Verificar si las columnas específicas están completamente llenas de valores nulos\n",
    "columnas_con_nulos = [col for col in ['platform'] if df[col].isnull().all()]\n",
    "\n",
    "# Imprimir las columnas que están completamente llenas de nulos\n",
    "print(\"Columnas completamente llenas de valores nulos:\", columnas_con_nulos)\n",
    "\n",
    "# Si decides eliminar estas columnas específicas, puedes hacerlo así:\n",
    "df = df.drop(columns=columnas_con_nulos)\n",
    "\n",
    "# Verificar el resultado\n",
    "#print(df.head())"
   ]
  },
  {
   "cell_type": "code",
   "execution_count": 14,
   "metadata": {},
   "outputs": [
    {
     "name": "stdout",
     "output_type": "stream",
     "text": [
      "Columnas que serán eliminadas porque contienen al menos un valor nulo: ['platform', 'clinical_assertion', 'clinvar_accession']\n",
      "  #chr  outermost_start  outermost_stop  variant_count variant_type  \\\n",
      "0    3            10561           10641              1     deletion   \n",
      "1    3            10721           10891              2     deletion   \n",
      "2    3            10723           10789              1     deletion   \n",
      "3    3            10765           10965              1     deletion   \n",
      "4    3            10987           11044              1     deletion   \n",
      "\n",
      "       method                             analysis       study  \\\n",
      "0     Merging                              Merging   Ebert2021   \n",
      "1  Sequencing  de_novo_and_local_sequence_assembly  Audano2018   \n",
      "2     Merging                              Merging   Ebert2021   \n",
      "3     Merging                              Merging   Ebert2021   \n",
      "4     Merging                              Merging   Ebert2021   \n",
      "\n",
      "                     variant bin_size  \n",
      "0               nssv17128946   medium  \n",
      "1  nssv14659482;nssv14660475   medium  \n",
      "2               nssv17126290   medium  \n",
      "3               nssv17121074   medium  \n",
      "4               nssv17139593   medium  \n"
     ]
    }
   ],
   "source": [
    "columnas_con_algun_nulo = df.columns[df.isnull().any()].tolist()\n",
    "\n",
    "print(\"Columnas que serán eliminadas porque contienen al menos un valor nulo:\", columnas_con_algun_nulo)\n",
    "\n",
    "# Eliminar las columnas que contienen al menos un valor nulo\n",
    "df = df.drop(columns=columnas_con_algun_nulo)\n",
    "\n",
    "# Verificar el resultado\n",
    "print(df.head())"
   ]
  },
  {
   "cell_type": "code",
   "execution_count": 15,
   "metadata": {},
   "outputs": [
    {
     "name": "stdout",
     "output_type": "stream",
     "text": [
      "  #chr  outermost_start  outermost_stop      method variant_type       variant\n",
      "0    3            10561           10641     Merging     deletion  nssv17128946\n",
      "1    3            10721           10891  Sequencing     deletion  nssv14659482\n",
      "1    3            10721           10891  Sequencing     deletion  nssv14660475\n",
      "2    3            10723           10789     Merging     deletion  nssv17126290\n",
      "3    3            10765           10965     Merging     deletion  nssv17121074\n"
     ]
    }
   ],
   "source": [
    "#Para mi prueba solo quiero las columnas de chr, start y end\n",
    "\n",
    "df = df[['#chr', 'outermost_start', 'outermost_stop', 'method', 'variant_type', 'variant']]\n",
    "df['variant'] = df['variant'].str.split(';')\n",
    "df = df.explode('variant')\n",
    "# Verificar el resultado\n",
    "print(df.head())\n"
   ]
  },
  {
   "cell_type": "code",
   "execution_count": 16,
   "metadata": {},
   "outputs": [
    {
     "name": "stdout",
     "output_type": "stream",
     "text": [
      "  CHROM    POS    END      method variant_type       variant\n",
      "0     3  10561  10641     Merging     deletion  nssv17128946\n",
      "1     3  10721  10891  Sequencing     deletion  nssv14659482\n",
      "1     3  10721  10891  Sequencing     deletion  nssv14660475\n"
     ]
    }
   ],
   "source": [
    "df.rename(columns={'#chr': 'CHROM', 'outermost_start': 'POS', 'outermost_stop': 'END'}, inplace=True)\n",
    "print(df.head(3))"
   ]
  },
  {
   "cell_type": "code",
   "execution_count": 17,
   "metadata": {},
   "outputs": [
    {
     "name": "stdout",
     "output_type": "stream",
     "text": [
      "CHROM                      3\n",
      "POS                    10721\n",
      "END                    10891\n",
      "method            Sequencing\n",
      "variant_type        deletion\n",
      "variant         nssv14659482\n",
      "Name: 1, dtype: object\n"
     ]
    }
   ],
   "source": [
    "specific_row = df.iloc[1]\n",
    "print(specific_row)"
   ]
  },
  {
   "cell_type": "code",
   "execution_count": 18,
   "metadata": {},
   "outputs": [],
   "source": [
    "# Añadir nuevas columnas que voy a necesitar\n",
    "df['DB'] = 'dbVar' # Columna base de datos"
   ]
  },
  {
   "cell_type": "code",
   "execution_count": 19,
   "metadata": {},
   "outputs": [
    {
     "name": "stdout",
     "output_type": "stream",
     "text": [
      "CHROM                      3\n",
      "POS                    10721\n",
      "END                    10891\n",
      "method            Sequencing\n",
      "variant_type        deletion\n",
      "variant         nssv14659482\n",
      "DB                     dbVar\n",
      "Name: 1, dtype: object\n"
     ]
    }
   ],
   "source": [
    "specific_row_2 = df.iloc[1]\n",
    "print(specific_row_2)"
   ]
  },
  {
   "cell_type": "code",
   "execution_count": 20,
   "metadata": {},
   "outputs": [
    {
     "name": "stdout",
     "output_type": "stream",
     "text": [
      "DataFrame guardado con éxito en 'Salidas\\salida_GRCh38.nr_deletions_big.tsv'\n"
     ]
    }
   ],
   "source": [
    "# Define la ruta y el nombre del archivo TSV de salida\n",
    "archivo_salida_tsv = 'salida_GRCh38.nr_deletions_big.tsv'\n",
    "carpeta_salida = 'Salidas'\n",
    "archivo_salida_tsv = os.path.join(carpeta_salida, archivo_salida_tsv)\n",
    "# Guardar el DataFrame en un archivo TSV\n",
    "df.to_csv(archivo_salida_tsv, sep='\\t', index=False)\n",
    "\n",
    "print(f\"DataFrame guardado con éxito en '{archivo_salida_tsv}'\")\n"
   ]
  },
  {
   "cell_type": "code",
   "execution_count": 21,
   "metadata": {},
   "outputs": [],
   "source": [
    "#archivo_gz = 'GRCh38.variant_call.clinical.conflicting_or_other.vcf.gz'\n",
    "\n",
    "# Descomprimir y leer el archivo\n",
    "#with gzip.open(archivo_gz, 'rt') as archivo:\n",
    "#    for linea in archivo:\n",
    "#        print(linea)"
   ]
  },
  {
   "cell_type": "code",
   "execution_count": 22,
   "metadata": {},
   "outputs": [
    {
     "name": "stdout",
     "output_type": "stream",
     "text": [
      "Advertencia: Las siguientes columnas relevantes no se encontraron en el archivo: ['#chr', 'outermost_start', 'outermost_stop']\n"
     ]
    }
   ],
   "source": [
    "# Lista de columnas relevantes según tu YARRRML\n",
    "# Ajusta esta lista según las columnas que realmente estén definidas en tu YARRRML\n",
    "relevant_columns = ['#chr', 'outermost_start', 'outermost_stop', 'variant', 'method']\n",
    "\n",
    "# Verifica si todas las columnas relevantes existen en el DataFrame, para evitar errores\n",
    "missing_columns = [col for col in relevant_columns if col not in df.columns]\n",
    "if missing_columns:\n",
    "    print(\"Advertencia: Las siguientes columnas relevantes no se encontraron en el archivo:\", missing_columns)\n",
    "else:\n",
    "    # Elimina las columnas que no están en 'relevant_columns'\n",
    "    df = df[relevant_columns]\n",
    "\n",
    "    # Guarda el DataFrame resultante en un nuevo archivo\n",
    "    output_path = 'archivo_filtrado.tsv'  # Asegúrate de actualizar esta ruta\n",
    "    df.to_csv(output_path, sep='\\t', index=False)\n",
    "\n",
    "    print(f\"Archivo guardado exitosamente en: {output_path}\")"
   ]
  }
 ],
 "metadata": {
  "kernelspec": {
   "display_name": "Python 3",
   "language": "python",
   "name": "python3"
  },
  "language_info": {
   "codemirror_mode": {
    "name": "ipython",
    "version": 3
   },
   "file_extension": ".py",
   "mimetype": "text/x-python",
   "name": "python",
   "nbconvert_exporter": "python",
   "pygments_lexer": "ipython3",
   "version": "3.10.9"
  }
 },
 "nbformat": 4,
 "nbformat_minor": 2
}
