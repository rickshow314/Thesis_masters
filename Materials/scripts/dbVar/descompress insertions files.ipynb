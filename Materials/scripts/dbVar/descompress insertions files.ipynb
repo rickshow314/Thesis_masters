{
 "cells": [
  {
   "cell_type": "code",
   "execution_count": 12,
   "metadata": {},
   "outputs": [
    {
     "name": "stdout",
     "output_type": "stream",
     "text": [
      "    #chr  outermost_start  outermost_stop  variant_count     variant_type  \\\n",
      "0      1         17028677        17028677              1    alu_insertion   \n",
      "1      1         45338416        45338416              1    alu_insertion   \n",
      "2      1         68434395        68434395              1    alu_insertion   \n",
      "3      1        115710237       115710237              1    alu_insertion   \n",
      "4      1        115761484       115761484              1        insertion   \n",
      "..   ...              ...             ...            ...              ...   \n",
      "256   22         29611368        29611368              1        insertion   \n",
      "257   22         29671063        29671063              1    alu_insertion   \n",
      "258   22         29676948        29676948              2        insertion   \n",
      "259   22         29696474        29696474              1    alu_insertion   \n",
      "260    X         38381635        38381635              1  line1_insertion   \n",
      "\n",
      "         method                  analysis                platform  \\\n",
      "0       Merging                   Merging  See merged experiments   \n",
      "1    Sequencing                     Other                     NaN   \n",
      "2    Sequencing                     Other                     NaN   \n",
      "3    Sequencing                     Other                     NaN   \n",
      "4    Sequencing        Sequence_alignment                     NaN   \n",
      "..          ...                       ...                     ...   \n",
      "256  Sequencing                     Other                     NaN   \n",
      "257  Sequencing                     Other                     NaN   \n",
      "258  Sequencing  Other;Sequence_alignment                     NaN   \n",
      "259  Sequencing                     Other                     NaN   \n",
      "260  Sequencing                     Other                     NaN   \n",
      "\n",
      "                                             study                    variant  \\\n",
      "0    1000_Genomes_Consortium_Phase_3_SV_Submission               essv16984100   \n",
      "1                       gnomAD_Structural_Variants               nssv16024648   \n",
      "2                       gnomAD_Structural_Variants               nssv16025035   \n",
      "3                       gnomAD_Structural_Variants               nssv16026918   \n",
      "4                               Genome_in_a_Bottle               nssv15762567   \n",
      "..                                             ...                        ...   \n",
      "256                     gnomAD_Structural_Variants               nssv16034712   \n",
      "257                     gnomAD_Structural_Variants               nssv16034713   \n",
      "258  gnomAD_Structural_Variants;Genome_in_a_Bottle  nssv16034714;nssv15765892   \n",
      "259                     gnomAD_Structural_Variants               nssv16034715   \n",
      "260                     gnomAD_Structural_Variants               nssv16089158   \n",
      "\n",
      "     clinical_significance  clinvar_accession bin_size  min_insertion_length  \\\n",
      "0                      NaN                NaN    small                   274   \n",
      "1                      NaN                NaN    small                   280   \n",
      "2                      NaN                NaN    small                   280   \n",
      "3                      NaN                NaN    small                   254   \n",
      "4                      NaN                NaN    small                   219   \n",
      "..                     ...                ...      ...                   ...   \n",
      "256                    NaN                NaN    small                   185   \n",
      "257                    NaN                NaN    small                   281   \n",
      "258                    NaN                NaN    small                    52   \n",
      "259                    NaN                NaN    small                   280   \n",
      "260                    NaN                NaN    small                   480   \n",
      "\n",
      "     max_insertion_length   gene  \n",
      "0                     274   SDHB  \n",
      "1                     280  MUTYH  \n",
      "2                     280  RPE65  \n",
      "3                     254  CASQ2  \n",
      "4                     219  CASQ2  \n",
      "..                    ...    ...  \n",
      "256                   185    NF2  \n",
      "257                   281    NF2  \n",
      "258                    52    NF2  \n",
      "259                   280    NF2  \n",
      "260                   480    OTC  \n",
      "\n",
      "[261 rows x 16 columns]\n",
      "Index(['#chr', 'outermost_start', 'outermost_stop', 'variant_count',\n",
      "       'variant_type', 'method', 'analysis', 'platform', 'study', 'variant',\n",
      "       'clinical_significance', 'clinvar_accession', 'bin_size',\n",
      "       'min_insertion_length', 'max_insertion_length', 'gene'],\n",
      "      dtype='object')\n"
     ]
    }
   ],
   "source": [
    "import gzip\n",
    "import pandas as pd\n",
    "import os\n",
    "\n",
    "\n",
    "#pd.set_option('display.max_columns', None)  \n",
    "#pd.set_option('display.width', 200)         \n",
    "#pd.set_option('display.max_rows', 10)       \n",
    "\n",
    "archivo_gz = 'GRCh38.nr_insertions.common.acmg_genes.tsv.gz'\n",
    "\n",
    "archivo_salida_tsv = 'archivo_descomprimido.tsv'\n",
    "\n",
    "with gzip.open(archivo_gz, 'rt') as f:\n",
    "    df = pd.read_csv(f, sep='\\t', quotechar='\"', escapechar='\\\\',header=1)\n",
    "\n",
    "\n",
    "print(df)\n",
    "print(df.columns)\n",
    "\n",
    "df.to_csv(archivo_salida_tsv, sep='\\t', index=False)\n"
   ]
  },
  {
   "cell_type": "code",
   "execution_count": 13,
   "metadata": {},
   "outputs": [
    {
     "name": "stdout",
     "output_type": "stream",
     "text": [
      "Columnas completamente llenas de valores nulos: ['clinical_significance', 'clinvar_accession']\n",
      "  #chr  outermost_start  outermost_stop  variant_count   variant_type  \\\n",
      "0    1         17028677        17028677              1  alu_insertion   \n",
      "1    1         45338416        45338416              1  alu_insertion   \n",
      "2    1         68434395        68434395              1  alu_insertion   \n",
      "3    1        115710237       115710237              1  alu_insertion   \n",
      "4    1        115761484       115761484              1      insertion   \n",
      "\n",
      "       method            analysis                platform  \\\n",
      "0     Merging             Merging  See merged experiments   \n",
      "1  Sequencing               Other                     NaN   \n",
      "2  Sequencing               Other                     NaN   \n",
      "3  Sequencing               Other                     NaN   \n",
      "4  Sequencing  Sequence_alignment                     NaN   \n",
      "\n",
      "                                           study       variant bin_size  \\\n",
      "0  1000_Genomes_Consortium_Phase_3_SV_Submission  essv16984100    small   \n",
      "1                     gnomAD_Structural_Variants  nssv16024648    small   \n",
      "2                     gnomAD_Structural_Variants  nssv16025035    small   \n",
      "3                     gnomAD_Structural_Variants  nssv16026918    small   \n",
      "4                             Genome_in_a_Bottle  nssv15762567    small   \n",
      "\n",
      "   min_insertion_length  max_insertion_length   gene  \n",
      "0                   274                   274   SDHB  \n",
      "1                   280                   280  MUTYH  \n",
      "2                   280                   280  RPE65  \n",
      "3                   254                   254  CASQ2  \n",
      "4                   219                   219  CASQ2  \n"
     ]
    }
   ],
   "source": [
    "# Verificar si las columnas específicas están completamente llenas de valores nulos\n",
    "columnas_con_nulos = [col for col in ['platform', 'clinical_significance', 'clinvar_accession' ] if df[col].isnull().all()]\n",
    "\n",
    "# Imprimir las columnas que están completamente llenas de nulos\n",
    "print(\"Columnas completamente llenas de valores nulos:\", columnas_con_nulos)\n",
    "\n",
    "# Si decides eliminar estas columnas específicas, puedes hacerlo así:\n",
    "df = df.drop(columns=columnas_con_nulos)\n",
    "\n",
    "# Verificar el resultado\n",
    "print(df.head())"
   ]
  },
  {
   "cell_type": "code",
   "execution_count": 14,
   "metadata": {},
   "outputs": [
    {
     "name": "stdout",
     "output_type": "stream",
     "text": [
      "Columnas que serán eliminadas porque contienen al menos un valor nulo: ['platform']\n",
      "  #chr  outermost_start  outermost_stop  variant_count   variant_type  \\\n",
      "0    1         17028677        17028677              1  alu_insertion   \n",
      "1    1         45338416        45338416              1  alu_insertion   \n",
      "2    1         68434395        68434395              1  alu_insertion   \n",
      "3    1        115710237       115710237              1  alu_insertion   \n",
      "4    1        115761484       115761484              1      insertion   \n",
      "\n",
      "       method            analysis  \\\n",
      "0     Merging             Merging   \n",
      "1  Sequencing               Other   \n",
      "2  Sequencing               Other   \n",
      "3  Sequencing               Other   \n",
      "4  Sequencing  Sequence_alignment   \n",
      "\n",
      "                                           study       variant bin_size  \\\n",
      "0  1000_Genomes_Consortium_Phase_3_SV_Submission  essv16984100    small   \n",
      "1                     gnomAD_Structural_Variants  nssv16024648    small   \n",
      "2                     gnomAD_Structural_Variants  nssv16025035    small   \n",
      "3                     gnomAD_Structural_Variants  nssv16026918    small   \n",
      "4                             Genome_in_a_Bottle  nssv15762567    small   \n",
      "\n",
      "   min_insertion_length  max_insertion_length   gene  \n",
      "0                   274                   274   SDHB  \n",
      "1                   280                   280  MUTYH  \n",
      "2                   280                   280  RPE65  \n",
      "3                   254                   254  CASQ2  \n",
      "4                   219                   219  CASQ2  \n"
     ]
    }
   ],
   "source": [
    "columnas_con_algun_nulo = df.columns[df.isnull().any()].tolist()\n",
    "\n",
    "print(\"Columnas que serán eliminadas porque contienen al menos un valor nulo:\", columnas_con_algun_nulo)\n",
    "\n",
    "# Eliminar las columnas que contienen al menos un valor nulo\n",
    "df = df.drop(columns=columnas_con_algun_nulo)\n",
    "\n",
    "# Verificar el resultado\n",
    "print(df.head())"
   ]
  },
  {
   "cell_type": "code",
   "execution_count": 15,
   "metadata": {},
   "outputs": [
    {
     "name": "stdout",
     "output_type": "stream",
     "text": [
      "  #chr  outermost_start  outermost_stop      method   variant_type  \\\n",
      "0    1         17028677        17028677     Merging  alu_insertion   \n",
      "1    1         45338416        45338416  Sequencing  alu_insertion   \n",
      "2    1         68434395        68434395  Sequencing  alu_insertion   \n",
      "3    1        115710237       115710237  Sequencing  alu_insertion   \n",
      "4    1        115761484       115761484  Sequencing      insertion   \n",
      "\n",
      "        variant   gene  \n",
      "0  essv16984100   SDHB  \n",
      "1  nssv16024648  MUTYH  \n",
      "2  nssv16025035  RPE65  \n",
      "3  nssv16026918  CASQ2  \n",
      "4  nssv15762567  CASQ2  \n"
     ]
    }
   ],
   "source": [
    "#Para mi prueba solo quiero las columnas de chr, start y end\n",
    "\n",
    "df = df[['#chr', 'outermost_start', 'outermost_stop', 'method', 'variant_type', 'variant', 'gene']]\n",
    "df['variant'] = df['variant'].str.split(';')\n",
    "df = df.explode('variant')\n",
    "# Verificar el resultado\n",
    "print(df.head())\n"
   ]
  },
  {
   "cell_type": "code",
   "execution_count": 16,
   "metadata": {},
   "outputs": [
    {
     "name": "stdout",
     "output_type": "stream",
     "text": [
      "  CHROM        POS        END      method   variant_type       variant   gene\n",
      "0     1   17028677   17028677     Merging  alu_insertion  essv16984100   SDHB\n",
      "1     1   45338416   45338416  Sequencing  alu_insertion  nssv16024648  MUTYH\n",
      "2     1   68434395   68434395  Sequencing  alu_insertion  nssv16025035  RPE65\n",
      "3     1  115710237  115710237  Sequencing  alu_insertion  nssv16026918  CASQ2\n",
      "4     1  115761484  115761484  Sequencing      insertion  nssv15762567  CASQ2\n"
     ]
    }
   ],
   "source": [
    "df.rename(columns={'#chr': 'CHROM', 'outermost_start': 'POS', 'outermost_stop': 'END'}, inplace=True)\n",
    "print(df.head())"
   ]
  },
  {
   "cell_type": "code",
   "execution_count": 17,
   "metadata": {},
   "outputs": [
    {
     "name": "stdout",
     "output_type": "stream",
     "text": [
      "CHROM                       1\n",
      "POS                  45338416\n",
      "END                  45338416\n",
      "method             Sequencing\n",
      "variant_type    alu_insertion\n",
      "variant          nssv16024648\n",
      "gene                    MUTYH\n",
      "Name: 1, dtype: object\n"
     ]
    }
   ],
   "source": [
    "specific_row = df.iloc[1]\n",
    "print(specific_row)"
   ]
  },
  {
   "cell_type": "code",
   "execution_count": 18,
   "metadata": {},
   "outputs": [],
   "source": [
    "# Añadir nuevas columnas que voy a necesitar\n",
    "df['DB'] = 'dbVar' # Columna base de datos"
   ]
  },
  {
   "cell_type": "code",
   "execution_count": 19,
   "metadata": {},
   "outputs": [
    {
     "name": "stdout",
     "output_type": "stream",
     "text": [
      "CHROM                       1\n",
      "POS                  45338416\n",
      "END                  45338416\n",
      "method             Sequencing\n",
      "variant_type    alu_insertion\n",
      "variant          nssv16024648\n",
      "gene                    MUTYH\n",
      "DB                      dbVar\n",
      "Name: 1, dtype: object\n"
     ]
    }
   ],
   "source": [
    "specific_row_2 = df.iloc[1]\n",
    "print(specific_row_2)"
   ]
  },
  {
   "cell_type": "code",
   "execution_count": 20,
   "metadata": {},
   "outputs": [
    {
     "name": "stdout",
     "output_type": "stream",
     "text": [
      "DataFrame guardado con éxito en 'Salidas'\n"
     ]
    }
   ],
   "source": [
    "# Define la ruta y el nombre del archivo TSV de salida\n",
    "archivo_salida_tsv = 'salida_GRCh38.nr_insertion.tsv'\n",
    "carpeta_salida = 'Salidas'\n",
    "archivo_salida_tsv = os.path.join(carpeta_salida, archivo_salida_tsv)\n",
    "# Guardar el DataFrame en un archivo TSV\n",
    "df.to_csv(archivo_salida_tsv, sep='\\t', index=False)\n",
    "\n",
    "print(f\"DataFrame guardado con éxito en '{carpeta_salida}'\")\n"
   ]
  },
  {
   "cell_type": "code",
   "execution_count": 21,
   "metadata": {},
   "outputs": [],
   "source": [
    "#archivo_gz = 'GRCh38.variant_call.clinical.conflicting_or_other.vcf.gz'\n",
    "\n",
    "# Descomprimir y leer el archivo\n",
    "#with gzip.open(archivo_gz, 'rt') as archivo:\n",
    "#    for linea in archivo:\n",
    "#        print(linea)"
   ]
  },
  {
   "cell_type": "code",
   "execution_count": 22,
   "metadata": {},
   "outputs": [
    {
     "name": "stdout",
     "output_type": "stream",
     "text": [
      "Advertencia: Las siguientes columnas relevantes no se encontraron en el archivo: ['#chr', 'outermost_start', 'outermost_stop']\n"
     ]
    }
   ],
   "source": [
    "# Lista de columnas relevantes según tu YARRRML\n",
    "# Ajusta esta lista según las columnas que realmente estén definidas en tu YARRRML\n",
    "relevant_columns = ['#chr', 'outermost_start', 'outermost_stop', 'variant']\n",
    "\n",
    "# Verifica si todas las columnas relevantes existen en el DataFrame, para evitar errores\n",
    "missing_columns = [col for col in relevant_columns if col not in df.columns]\n",
    "if missing_columns:\n",
    "    print(\"Advertencia: Las siguientes columnas relevantes no se encontraron en el archivo:\", missing_columns)\n",
    "else:\n",
    "    # Elimina las columnas que no están en 'relevant_columns'\n",
    "    df = df[relevant_columns]\n",
    "\n",
    "    # Guarda el DataFrame resultante en un nuevo archivo\n",
    "    output_path = 'archivo_filtrado.tsv'  # Asegúrate de actualizar esta ruta\n",
    "    df.to_csv(output_path, sep='\\t', index=False)\n",
    "\n",
    "    print(f\"Archivo guardado exitosamente en: {output_path}\")"
   ]
  }
 ],
 "metadata": {
  "kernelspec": {
   "display_name": "Python 3",
   "language": "python",
   "name": "python3"
  },
  "language_info": {
   "codemirror_mode": {
    "name": "ipython",
    "version": 3
   },
   "file_extension": ".py",
   "mimetype": "text/x-python",
   "name": "python",
   "nbconvert_exporter": "python",
   "pygments_lexer": "ipython3",
   "version": "3.10.9"
  }
 },
 "nbformat": 4,
 "nbformat_minor": 2
}
